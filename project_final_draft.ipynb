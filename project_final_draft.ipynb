{
 "cells": [
  {
   "cell_type": "markdown",
   "id": "c04c5912-0b40-4ce0-82f3-a5f858575fdd",
   "metadata": {},
   "source": [
    "# Analysis of Tennis Player Prize Money\n",
    "\n",
    "#### By Harmony Allan-Mah, Brandon Hui, Leo Qu and Elena Zettelmeyer\n"
   ]
  },
  {
   "cell_type": "markdown",
   "id": "4d0faa7f-3864-46b5-997e-76e2ba092faa",
   "metadata": {},
   "source": [
    "### Introduction \n",
    "\n",
    "Tennis is a popular game enjoyed worldwide, with approximately 87 million players in 2019, and 973 million viewers or Association of Tennis Professionals (ATP) events in 2015 (Czermak). Because of its popularity, many recreational players may consider trying to play professionally to gain potential fame and wealth, but little is known about what exactly may lead to high earnings and success in professional Tennis. Fortunately, Ultimate Tennis Statistics contains a dataset named “Player Stats for Top 500 Players”, which provides useful information about men’s singles games, including each player’s age, the number of seasons they’ve played, their height, various forms of rankings, and the amount of prize money they earn. The dataset has a total of 500 rows (one for each player) and 38 columns consisting of various variables, but only 9 of which are of interest to us. With this data, we can get a better sense of what factors may predict financial success in men’s singles tennis. In this project, we will conduct a linear regression model to answer the predictive question: **how do tennis player’s age, seasons, height, and various rankings influence the prize money that they can make?**, using the following 9 predictors: \n",
    "\n",
    "- Age\n",
    "- Seasons (where Seasons is the number of seasons a player has played in their career)\n",
    "- Current Elo Rank (where Current Elo Rank is how a player ranks in terms of their current elo*)\n",
    "- Best Elo Rank (where Best Elo Rank is how a player ranks in terms of their peak elo*)\n",
    "- Peak Elo Rating (where Peak Elo Rating is the player’s highest ever elo*)\n",
    "- Height\n",
    "- Current Rank (where Current Rank is a player’s current ranking amongst all tennis players in the world)\n",
    "- Best Rank (where Best Rank is the highest ranking a player has achieved at any point in their career)\n",
    "- GOAT Rank (where GOAT Rank is a player’s ranking amongst the Greatest (tennis players) of all Time)\n",
    "\n",
    "**Elo is an estimate of a tennis player’s general strength and ability, and is often used in the ATP.  If a player wins, their Elo increases, and vice versa.*\n",
    "\n",
    "We will narrow down which predictors we'll use in our analysis based on the strength of their relationship with prize money earned (exact correlation coefficients and graphs shown below). We will then exclude the predictors that have low correlations with prize money, as they are unlikely to strengthen our predictions. \n",
    "\n",
    "This analysis is important, because it could give semi-professionals or amateurs interested in going fully professional a realistic understanding of what it would take for them to actually start earning prize money. Players with the goal of earning high amounts of money could compare their own predicted rankings with those used in the regression to determine whether it is a field worth entering, or provide concrete goals for them to train towards to achieve higher earnings. \n"
   ]
  },
  {
   "cell_type": "markdown",
   "id": "91f459d3",
   "metadata": {},
   "source": [
    "### Methods\n",
    "\n",
    "We have used the following code to tidy our data and split it into our training and test sets: "
   ]
  },
  {
   "cell_type": "code",
   "execution_count": 1,
   "id": "51d22713",
   "metadata": {},
   "outputs": [
    {
     "name": "stderr",
     "output_type": "stream",
     "text": [
      "<<<<<<< local\n",
      "── \u001b[1mAttaching packages\u001b[22m ─────────────────────────────────────── tidyverse 1.3.1 ──\n",
      "\n",
      "\u001b[32m✔\u001b[39m \u001b[34mggplot2\u001b[39m 3.3.6     \u001b[32m✔\u001b[39m \u001b[34mpurrr  \u001b[39m 0.3.4\n",
      "\u001b[32m✔\u001b[39m \u001b[34mtibble \u001b[39m 3.1.7     \u001b[32m✔\u001b[39m \u001b[34mdplyr  \u001b[39m 1.0.9\n",
      "\u001b[32m✔\u001b[39m \u001b[34mtidyr  \u001b[39m 1.2.0     \u001b[32m✔\u001b[39m \u001b[34mstringr\u001b[39m 1.4.0\n",
      "\u001b[32m✔\u001b[39m \u001b[34mreadr  \u001b[39m 2.1.2     \u001b[32m✔\u001b[39m \u001b[34mforcats\u001b[39m 0.5.1\n",
      "\n",
      "── \u001b[1mConflicts\u001b[22m ────────────────────────────────────────── tidyverse_conflicts() ──\n",
      "\u001b[31m✖\u001b[39m \u001b[34mdplyr\u001b[39m::\u001b[32mfilter()\u001b[39m masks \u001b[34mstats\u001b[39m::filter()\n",
      "\u001b[31m✖\u001b[39m \u001b[34mdplyr\u001b[39m::\u001b[32mlag()\u001b[39m    masks \u001b[34mstats\u001b[39m::lag()\n",
      "\n",
      "── \u001b[1mAttaching packages\u001b[22m ────────────────────────────────────── tidymodels 1.0.0 ──\n",
      "\n",
      "\u001b[32m✔\u001b[39m \u001b[34mbroom       \u001b[39m 1.0.0     \u001b[32m✔\u001b[39m \u001b[34mrsample     \u001b[39m 1.0.0\n",
      "\u001b[32m✔\u001b[39m \u001b[34mdials       \u001b[39m 1.0.0     \u001b[32m✔\u001b[39m \u001b[34mtune        \u001b[39m 1.0.0\n",
      "\u001b[32m✔\u001b[39m \u001b[34minfer       \u001b[39m 1.0.2     \u001b[32m✔\u001b[39m \u001b[34mworkflows   \u001b[39m 1.0.0\n",
      "\u001b[32m✔\u001b[39m \u001b[34mmodeldata   \u001b[39m 1.0.0     \u001b[32m✔\u001b[39m \u001b[34mworkflowsets\u001b[39m 1.0.0\n",
      "\u001b[32m✔\u001b[39m \u001b[34mparsnip     \u001b[39m 1.0.0     \u001b[32m✔\u001b[39m \u001b[34myardstick   \u001b[39m 1.0.0\n",
      "\u001b[32m✔\u001b[39m \u001b[34mrecipes     \u001b[39m 1.0.1     \n",
      "\n",
      "── \u001b[1mConflicts\u001b[22m ───────────────────────────────────────── tidymodels_conflicts() ──\n",
      "\u001b[31m✖\u001b[39m \u001b[34mscales\u001b[39m::\u001b[32mdiscard()\u001b[39m masks \u001b[34mpurrr\u001b[39m::discard()\n",
      "\u001b[31m✖\u001b[39m \u001b[34mdplyr\u001b[39m::\u001b[32mfilter()\u001b[39m   masks \u001b[34mstats\u001b[39m::filter()\n",
      "\u001b[31m✖\u001b[39m \u001b[34mrecipes\u001b[39m::\u001b[32mfixed()\u001b[39m  masks \u001b[34mstringr\u001b[39m::fixed()\n",
      "\u001b[31m✖\u001b[39m \u001b[34mdplyr\u001b[39m::\u001b[32mlag()\u001b[39m      masks \u001b[34mstats\u001b[39m::lag()\n",
      "\u001b[31m✖\u001b[39m \u001b[34myardstick\u001b[39m::\u001b[32mspec()\u001b[39m masks \u001b[34mreadr\u001b[39m::spec()\n",
      "\u001b[31m✖\u001b[39m \u001b[34mrecipes\u001b[39m::\u001b[32mstep()\u001b[39m   masks \u001b[34mstats\u001b[39m::step()\n",
      "\u001b[34m•\u001b[39m Use suppressPackageStartupMessages() to eliminate package startup messages\n",
      "\n",
      "\n",
      "Attaching package: ‘gridExtra’\n",
      "\n",
      "\n",
      "The following object is masked from ‘package:dplyr’:\n",
      "\n",
      "    combine\n",
      "\n",
      "\n",
      "Registered S3 method overwritten by 'GGally':\n",
      "  method from   \n",
      "  +.gg   ggplot2\n",
      "\n",
      "\u001b[1m\u001b[22mNew names:\n",
      "\u001b[36m•\u001b[39m `` -> `...1`\n",
      "\u001b[1mRows: \u001b[22m\u001b[34m500\u001b[39m \u001b[1mColumns: \u001b[22m\u001b[34m38\u001b[39m\n",
      "\u001b[36m──\u001b[39m \u001b[1mColumn specification\u001b[22m \u001b[36m────────────────────────────────────────────────────────\u001b[39m\n",
      "\u001b[1mDelimiter:\u001b[22m \",\"\n",
      "\u001b[31mchr\u001b[39m (25): Age, Country, Plays, Wikipedia, Current Rank, Best Rank, Name, Bac...\n",
      "\u001b[32mdbl\u001b[39m (13): ...1, Turned Pro, Seasons, Titles, Best Season, Retired, Masters, ...\n",
      "\n",
      "\u001b[36mℹ\u001b[39m Use `spec()` to retrieve the full column specification for this data.\n",
      "\u001b[36mℹ\u001b[39m Specify the column types or set `show_col_types = FALSE` to quiet this message.\n",
      "=======\n",
      "── \u001b[1mAttaching packages\u001b[22m ─────────────────────────────────────── tidyverse 1.3.1 ──\n",
      "\n",
      "\u001b[32m✔\u001b[39m \u001b[34mggplot2\u001b[39m 3.3.6     \u001b[32m✔\u001b[39m \u001b[34mpurrr  \u001b[39m 0.3.4\n",
      "\u001b[32m✔\u001b[39m \u001b[34mtibble \u001b[39m 3.1.7     \u001b[32m✔\u001b[39m \u001b[34mdplyr  \u001b[39m 1.0.9\n",
      "\u001b[32m✔\u001b[39m \u001b[34mtidyr  \u001b[39m 1.2.0     \u001b[32m✔\u001b[39m \u001b[34mstringr\u001b[39m 1.4.0\n",
      "\u001b[32m✔\u001b[39m \u001b[34mreadr  \u001b[39m 2.1.2     \u001b[32m✔\u001b[39m \u001b[34mforcats\u001b[39m 0.5.1\n",
      "\n",
      "── \u001b[1mConflicts\u001b[22m ────────────────────────────────────────── tidyverse_conflicts() ──\n",
      "\u001b[31m✖\u001b[39m \u001b[34mdplyr\u001b[39m::\u001b[32mfilter()\u001b[39m masks \u001b[34mstats\u001b[39m::filter()\n",
      "\u001b[31m✖\u001b[39m \u001b[34mdplyr\u001b[39m::\u001b[32mlag()\u001b[39m    masks \u001b[34mstats\u001b[39m::lag()\n",
      "\n",
      "── \u001b[1mAttaching packages\u001b[22m ────────────────────────────────────── tidymodels 1.0.0 ──\n",
      "\n",
      "\u001b[32m✔\u001b[39m \u001b[34mbroom       \u001b[39m 1.0.0     \u001b[32m✔\u001b[39m \u001b[34mrsample     \u001b[39m 1.0.0\n",
      "\u001b[32m✔\u001b[39m \u001b[34mdials       \u001b[39m 1.0.0     \u001b[32m✔\u001b[39m \u001b[34mtune        \u001b[39m 1.0.0\n",
      "\u001b[32m✔\u001b[39m \u001b[34minfer       \u001b[39m 1.0.2     \u001b[32m✔\u001b[39m \u001b[34mworkflows   \u001b[39m 1.0.0\n",
      "\u001b[32m✔\u001b[39m \u001b[34mmodeldata   \u001b[39m 1.0.0     \u001b[32m✔\u001b[39m \u001b[34mworkflowsets\u001b[39m 1.0.0\n",
      "\u001b[32m✔\u001b[39m \u001b[34mparsnip     \u001b[39m 1.0.0     \u001b[32m✔\u001b[39m \u001b[34myardstick   \u001b[39m 1.0.0\n",
      "\u001b[32m✔\u001b[39m \u001b[34mrecipes     \u001b[39m 1.0.1     \n",
      "\n",
      "── \u001b[1mConflicts\u001b[22m ───────────────────────────────────────── tidymodels_conflicts() ──\n",
      "\u001b[31m✖\u001b[39m \u001b[34mscales\u001b[39m::\u001b[32mdiscard()\u001b[39m masks \u001b[34mpurrr\u001b[39m::discard()\n",
      "\u001b[31m✖\u001b[39m \u001b[34mdplyr\u001b[39m::\u001b[32mfilter()\u001b[39m   masks \u001b[34mstats\u001b[39m::filter()\n",
      "\u001b[31m✖\u001b[39m \u001b[34mrecipes\u001b[39m::\u001b[32mfixed()\u001b[39m  masks \u001b[34mstringr\u001b[39m::fixed()\n",
      "\u001b[31m✖\u001b[39m \u001b[34mdplyr\u001b[39m::\u001b[32mlag()\u001b[39m      masks \u001b[34mstats\u001b[39m::lag()\n",
      "\u001b[31m✖\u001b[39m \u001b[34myardstick\u001b[39m::\u001b[32mspec()\u001b[39m masks \u001b[34mreadr\u001b[39m::spec()\n",
      "\u001b[31m✖\u001b[39m \u001b[34mrecipes\u001b[39m::\u001b[32mstep()\u001b[39m   masks \u001b[34mstats\u001b[39m::step()\n",
      "\u001b[34m•\u001b[39m Search for functions across packages at \u001b[32mhttps://www.tidymodels.org/find/\u001b[39m\n",
      "\n",
      "\n",
      "Attaching package: ‘gridExtra’\n",
      "\n",
      "\n",
      "The following object is masked from ‘package:dplyr’:\n",
      "\n",
      "    combine\n",
      "\n",
      "\n",
      "Registered S3 method overwritten by 'GGally':\n",
      "  method from   \n",
      "  +.gg   ggplot2\n",
      "\n",
      "\u001b[1m\u001b[22mNew names:\n",
      "\u001b[36m•\u001b[39m `` -> `...1`\n",
      "\u001b[1mRows: \u001b[22m\u001b[34m500\u001b[39m \u001b[1mColumns: \u001b[22m\u001b[34m38\u001b[39m\n",
      "\u001b[36m──\u001b[39m \u001b[1mColumn specification\u001b[22m \u001b[36m────────────────────────────────────────────────────────\u001b[39m\n",
      "\u001b[1mDelimiter:\u001b[22m \",\"\n",
      "\u001b[31mchr\u001b[39m (25): Age, Country, Plays, Wikipedia, Current Rank, Best Rank, Name, Bac...\n",
      "\u001b[32mdbl\u001b[39m (13): ...1, Turned Pro, Seasons, Titles, Best Season, Retired, Masters, ...\n",
      "\n",
      "\u001b[36mℹ\u001b[39m Use `spec()` to retrieve the full column specification for this data.\n",
      "\u001b[36mℹ\u001b[39m Specify the column types or set `show_col_types = FALSE` to quiet this message.\n"
     ]
    },
    {
     "data": {
      "text/html": [
       "<table class=\"dataframe\">\n",
       "<caption>A tibble: 10 × 10</caption>\n",
       "<thead>\n",
       "\t<tr><th scope=col>Age</th><th scope=col>Seasons</th><th scope=col>Current.Elo.Rank</th><th scope=col>Best.Elo.Rank</th><th scope=col>Peak.Elo.Rating</th><th scope=col>Height</th><th scope=col>Current.Rank</th><th scope=col>Best.Rank</th><th scope=col>GOAT.Rank</th><th scope=col>Prize.Money</th></tr>\n",
       "\t<tr><th scope=col>&lt;dbl&gt;</th><th scope=col>&lt;dbl&gt;</th><th scope=col>&lt;dbl&gt;</th><th scope=col>&lt;dbl&gt;</th><th scope=col>&lt;dbl&gt;</th><th scope=col>&lt;dbl&gt;</th><th scope=col>&lt;dbl&gt;</th><th scope=col>&lt;dbl&gt;</th><th scope=col>&lt;dbl&gt;</th><th scope=col>&lt;dbl&gt;</th></tr>\n",
       "</thead>\n",
       "<tbody>\n",
       "\t<tr><td>27</td><td>11</td><td>1826</td><td>21</td><td>2037</td><td>193</td><td>183</td><td>17</td><td>264</td><td> 6091971</td></tr>\n",
       "\t<tr><td>31</td><td>14</td><td>2211</td><td> 3</td><td>2329</td><td>198</td><td>121</td><td> 3</td><td> 33</td><td>25889586</td></tr>\n",
       "\t<tr><td>33</td><td>14</td><td>1791</td><td>29</td><td>2004</td><td>190</td><td>130</td><td>19</td><td>264</td><td>10821168</td></tr>\n",
       "\t<tr><td>32</td><td>15</td><td>1993</td><td>18</td><td>2068</td><td>198</td><td> 45</td><td>11</td><td>157</td><td>11912152</td></tr>\n",
       "\t<tr><td>32</td><td>16</td><td>2004</td><td>14</td><td>2112</td><td>178</td><td> 12</td><td> 9</td><td>151</td><td>13470614</td></tr>\n",
       "\t<tr><td>29</td><td>11</td><td>1892</td><td>35</td><td>1962</td><td>180</td><td> 27</td><td>23</td><td>357</td><td> 4850190</td></tr>\n",
       "\t<tr><td>32</td><td>13</td><td>1860</td><td>44</td><td>1946</td><td>190</td><td>161</td><td>33</td><td>357</td><td> 7114496</td></tr>\n",
       "\t<tr><td>27</td><td>11</td><td>1845</td><td>38</td><td>1953</td><td>183</td><td>304</td><td>40</td><td>489</td><td> 4660132</td></tr>\n",
       "\t<tr><td>35</td><td>18</td><td>1879</td><td>21</td><td>2029</td><td>190</td><td> 85</td><td>18</td><td>293</td><td>10581476</td></tr>\n",
       "\t<tr><td>27</td><td> 8</td><td>2025</td><td>18</td><td>2066</td><td>170</td><td> 14</td><td>11</td><td>222</td><td> 7217264</td></tr>\n",
       "</tbody>\n",
       "</table>\n"
      ],
      "text/latex": [
       "A tibble: 10 × 10\n",
       "\\begin{tabular}{llllllllll}\n",
       " Age & Seasons & Current.Elo.Rank & Best.Elo.Rank & Peak.Elo.Rating & Height & Current.Rank & Best.Rank & GOAT.Rank & Prize.Money\\\\\n",
       " <dbl> & <dbl> & <dbl> & <dbl> & <dbl> & <dbl> & <dbl> & <dbl> & <dbl> & <dbl>\\\\\n",
       "\\hline\n",
       "\t 27 & 11 & 1826 & 21 & 2037 & 193 & 183 & 17 & 264 &  6091971\\\\\n",
       "\t 31 & 14 & 2211 &  3 & 2329 & 198 & 121 &  3 &  33 & 25889586\\\\\n",
       "\t 33 & 14 & 1791 & 29 & 2004 & 190 & 130 & 19 & 264 & 10821168\\\\\n",
       "\t 32 & 15 & 1993 & 18 & 2068 & 198 &  45 & 11 & 157 & 11912152\\\\\n",
       "\t 32 & 16 & 2004 & 14 & 2112 & 178 &  12 &  9 & 151 & 13470614\\\\\n",
       "\t 29 & 11 & 1892 & 35 & 1962 & 180 &  27 & 23 & 357 &  4850190\\\\\n",
       "\t 32 & 13 & 1860 & 44 & 1946 & 190 & 161 & 33 & 357 &  7114496\\\\\n",
       "\t 27 & 11 & 1845 & 38 & 1953 & 183 & 304 & 40 & 489 &  4660132\\\\\n",
       "\t 35 & 18 & 1879 & 21 & 2029 & 190 &  85 & 18 & 293 & 10581476\\\\\n",
       "\t 27 &  8 & 2025 & 18 & 2066 & 170 &  14 & 11 & 222 &  7217264\\\\\n",
       "\\end{tabular}\n"
      ],
      "text/markdown": [
       "\n",
       "A tibble: 10 × 10\n",
       "\n",
       "| Age &lt;dbl&gt; | Seasons &lt;dbl&gt; | Current.Elo.Rank &lt;dbl&gt; | Best.Elo.Rank &lt;dbl&gt; | Peak.Elo.Rating &lt;dbl&gt; | Height &lt;dbl&gt; | Current.Rank &lt;dbl&gt; | Best.Rank &lt;dbl&gt; | GOAT.Rank &lt;dbl&gt; | Prize.Money &lt;dbl&gt; |\n",
       "|---|---|---|---|---|---|---|---|---|---|\n",
       "| 27 | 11 | 1826 | 21 | 2037 | 193 | 183 | 17 | 264 |  6091971 |\n",
       "| 31 | 14 | 2211 |  3 | 2329 | 198 | 121 |  3 |  33 | 25889586 |\n",
       "| 33 | 14 | 1791 | 29 | 2004 | 190 | 130 | 19 | 264 | 10821168 |\n",
       "| 32 | 15 | 1993 | 18 | 2068 | 198 |  45 | 11 | 157 | 11912152 |\n",
       "| 32 | 16 | 2004 | 14 | 2112 | 178 |  12 |  9 | 151 | 13470614 |\n",
       "| 29 | 11 | 1892 | 35 | 1962 | 180 |  27 | 23 | 357 |  4850190 |\n",
       "| 32 | 13 | 1860 | 44 | 1946 | 190 | 161 | 33 | 357 |  7114496 |\n",
       "| 27 | 11 | 1845 | 38 | 1953 | 183 | 304 | 40 | 489 |  4660132 |\n",
       "| 35 | 18 | 1879 | 21 | 2029 | 190 |  85 | 18 | 293 | 10581476 |\n",
       "| 27 |  8 | 2025 | 18 | 2066 | 170 |  14 | 11 | 222 |  7217264 |\n",
       "\n"
      ],
      "text/plain": [
       "   Age Seasons Current.Elo.Rank Best.Elo.Rank Peak.Elo.Rating Height\n",
       "1  27  11      1826             21            2037            193   \n",
       "2  31  14      2211              3            2329            198   \n",
       "3  33  14      1791             29            2004            190   \n",
       "4  32  15      1993             18            2068            198   \n",
       "5  32  16      2004             14            2112            178   \n",
       "6  29  11      1892             35            1962            180   \n",
       "7  32  13      1860             44            1946            190   \n",
       "8  27  11      1845             38            1953            183   \n",
       "9  35  18      1879             21            2029            190   \n",
       "10 27   8      2025             18            2066            170   \n",
       "   Current.Rank Best.Rank GOAT.Rank Prize.Money\n",
       "1  183          17        264        6091971   \n",
       "2  121           3         33       25889586   \n",
       "3  130          19        264       10821168   \n",
       "4   45          11        157       11912152   \n",
       "5   12           9        151       13470614   \n",
       "6   27          23        357        4850190   \n",
       "7  161          33        357        7114496   \n",
       "8  304          40        489        4660132   \n",
       "9   85          18        293       10581476   \n",
       "10  14          11        222        7217264   "
      ]
     },
     "metadata": {},
     "output_type": "display_data"
    },
    {
     "name": "stderr",
     "output_type": "stream",
     "text": [
      ">>>>>>> remote\n",
      "Warning message:\n",
      "“The number of observations in each quantile is below the recommended threshold of 20.\n",
      "\u001b[36m•\u001b[39m Stratification will use 3 breaks instead.”\n"
     ]
    }
   ],
   "source": [
    "set.seed(2022) \n",
    "\n",
    "library(tidyverse)\n",
    "library(tidymodels)\n",
    "library(gridExtra)\n",
    "library(GGally)\n",
    "library(cowplot)\n",
    "\n",
    "player_stats <- read_csv(\"data\")\n",
    "\n",
    "colnames(player_stats) <- make.names(colnames(player_stats), unique = TRUE)\n",
    "player_stats_tidy <- player_stats |> filter(Active == \"Yes\", Current.Elo.Rank != \"N/A\", Height != \"N/A\", GOAT.Rank != \"N/A\") |> \n",
    "                                     select(Age, Seasons, Current.Elo.Rank, Best.Elo.Rank, Peak.Elo.Rating, Height, Current.Rank, Best.Rank, GOAT.Rank, Prize.Money) |> \n",
    "                                     mutate(Age = as.numeric(substr(Age, 1,2)), \n",
    "                                            Current.Rank = as.numeric(gsub(\"\\\\(.*?\\\\)\", \"\", Current.Rank)),\n",
    "                                            Best.Rank = as.numeric(gsub(\"\\\\(.*?\\\\)\", \"\", Best.Rank)),\n",
    "                                            Height = as.numeric(gsub(\"cm\", \"\", Height)),\n",
    "                                            Peak.Elo.Rating = as.numeric(gsub(\"\\\\(.*?\\\\)\", \"\", Peak.Elo.Rating)),\n",
    "                                            GOAT.Rank = as.numeric(gsub(\"\\\\(.*?\\\\)\", \"\", GOAT.Rank)),\n",
    "                                            Best.Elo.Rank = as.numeric(gsub(\"\\\\(.*?\\\\)\", \"\", Best.Elo.Rank)),\n",
    "                                            Current.Elo.Rank = as.numeric(gsub(\"[\\\\(\\\\)]\", \"\", regmatches(Current.Elo.Rank, gregexpr(\"\\\\(.*?\\\\)\", Current.Elo.Rank)))),\n",
    "                                            Prize.Money = parse_number(Prize.Money))\n",
    "head(player_stats_tidy, 10)\n",
    "\n",
    "player_stats_split <- initial_split(player_stats_tidy, prop = 0.6, strata = Prize.Money)\n",
    "player_stats_train <- training(player_stats_split)\n",
    "player_stats_test <- testing(player_stats_split)"
   ]
  },
  {
   "cell_type": "markdown",
   "id": "542a633b",
   "metadata": {},
   "source": [
    "The table above represents the training data we will use for our prediction model. It represents a randomized portion of the original tidied data set; more specifically 60% of it. It contains 10 variables, one of which is the value we are trying to predict, prize money. We know our data is properly tidied because each column is a single variable, and each value is a single cell, where the value is a reasonable number when considering the real life applications of each variable. "
   ]
  },
  {
   "cell_type": "code",
   "execution_count": 4,
   "id": "678f0df8",
   "metadata": {},
   "outputs": [
    {
     "data": {
      "text/html": [
       "<table class=\"dataframe\">\n",
       "<caption>A tibble: 10 × 3</caption>\n",
       "<thead>\n",
       "\t<tr><th scope=col>data_means</th><th scope=col>training_means</th><th scope=col>columns</th></tr>\n",
       "\t<tr><th scope=col>&lt;dbl&gt;</th><th scope=col>&lt;dbl&gt;</th><th scope=col>&lt;chr&gt;</th></tr>\n",
       "</thead>\n",
       "<tbody>\n",
       "\t<tr><td>1.367647e+01</td><td>1.382051e+01</td><td>Seasons         </td></tr>\n",
       "\t<tr><td>1.750000e+01</td><td>1.664103e+01</td><td>Best.Rank       </td></tr>\n",
       "\t<tr><td>2.216176e+01</td><td>2.148718e+01</td><td>Best.Elo.Rank   </td></tr>\n",
       "\t<tr><td>3.154412e+01</td><td>3.158974e+01</td><td>Age             </td></tr>\n",
       "\t<tr><td>8.651471e+01</td><td>7.556410e+01</td><td>Current.Rank    </td></tr>\n",
       "\t<tr><td>1.873971e+02</td><td>1.877436e+02</td><td>Height          </td></tr>\n",
       "\t<tr><td>2.367794e+02</td><td>2.279744e+02</td><td>GOAT.Rank       </td></tr>\n",
       "\t<tr><td>1.948603e+03</td><td>1.957051e+03</td><td>Current.Elo.Rank</td></tr>\n",
       "\t<tr><td>2.092588e+03</td><td>2.105103e+03</td><td>Peak.Elo.Rating </td></tr>\n",
       "\t<tr><td>1.628476e+07</td><td>2.029442e+07</td><td>Prize.Money     </td></tr>\n",
       "</tbody>\n",
       "</table>\n"
      ],
      "text/latex": [
       "A tibble: 10 × 3\n",
       "\\begin{tabular}{lll}\n",
       " data\\_means & training\\_means & columns\\\\\n",
       " <dbl> & <dbl> & <chr>\\\\\n",
       "\\hline\n",
       "\t 1.367647e+01 & 1.382051e+01 & Seasons         \\\\\n",
       "\t 1.750000e+01 & 1.664103e+01 & Best.Rank       \\\\\n",
       "\t 2.216176e+01 & 2.148718e+01 & Best.Elo.Rank   \\\\\n",
       "\t 3.154412e+01 & 3.158974e+01 & Age             \\\\\n",
       "\t 8.651471e+01 & 7.556410e+01 & Current.Rank    \\\\\n",
       "\t 1.873971e+02 & 1.877436e+02 & Height          \\\\\n",
       "\t 2.367794e+02 & 2.279744e+02 & GOAT.Rank       \\\\\n",
       "\t 1.948603e+03 & 1.957051e+03 & Current.Elo.Rank\\\\\n",
       "\t 2.092588e+03 & 2.105103e+03 & Peak.Elo.Rating \\\\\n",
       "\t 1.628476e+07 & 2.029442e+07 & Prize.Money     \\\\\n",
       "\\end{tabular}\n"
      ],
      "text/markdown": [
       "\n",
       "A tibble: 10 × 3\n",
       "\n",
       "| data_means &lt;dbl&gt; | training_means &lt;dbl&gt; | columns &lt;chr&gt; |\n",
       "|---|---|---|\n",
       "| 1.367647e+01 | 1.382051e+01 | Seasons          |\n",
       "| 1.750000e+01 | 1.664103e+01 | Best.Rank        |\n",
       "| 2.216176e+01 | 2.148718e+01 | Best.Elo.Rank    |\n",
       "| 3.154412e+01 | 3.158974e+01 | Age              |\n",
       "| 8.651471e+01 | 7.556410e+01 | Current.Rank     |\n",
       "| 1.873971e+02 | 1.877436e+02 | Height           |\n",
       "| 2.367794e+02 | 2.279744e+02 | GOAT.Rank        |\n",
       "| 1.948603e+03 | 1.957051e+03 | Current.Elo.Rank |\n",
       "| 2.092588e+03 | 2.105103e+03 | Peak.Elo.Rating  |\n",
       "| 1.628476e+07 | 2.029442e+07 | Prize.Money      |\n",
       "\n"
      ],
      "text/plain": [
       "   data_means   training_means columns         \n",
       "1  1.367647e+01 1.382051e+01   Seasons         \n",
       "2  1.750000e+01 1.664103e+01   Best.Rank       \n",
       "3  2.216176e+01 2.148718e+01   Best.Elo.Rank   \n",
       "4  3.154412e+01 3.158974e+01   Age             \n",
       "5  8.651471e+01 7.556410e+01   Current.Rank    \n",
       "6  1.873971e+02 1.877436e+02   Height          \n",
       "7  2.367794e+02 2.279744e+02   GOAT.Rank       \n",
       "8  1.948603e+03 1.957051e+03   Current.Elo.Rank\n",
       "9  2.092588e+03 2.105103e+03   Peak.Elo.Rating \n",
       "10 1.628476e+07 2.029442e+07   Prize.Money     "
      ]
     },
     "metadata": {},
     "output_type": "display_data"
    }
   ],
   "source": [
    "player_stats_means_train <- map_dbl(player_stats_train, mean) |>\n",
    "                           enframe() |> \n",
    "                           arrange(value) |> \n",
    "                           mutate(training_means = value, columns = name) |> \n",
    "                           select(-value, -name)\n",
    "\n",
    "player_stats_means_all <- map_dbl(player_stats_tidy, mean) |> \n",
    "                           enframe() |> \n",
    "                           arrange(value) |> \n",
    "                           mutate(data_means = value) |>\n",
    "                           bind_cols(player_stats_means_train) |>\n",
    "                           select(-name, -value)\n",
    "\n",
    "player_stats_means_all"
   ]
  },
  {
   "cell_type": "markdown",
   "id": "4a2ac1a7",
   "metadata": {},
   "source": [
    "This table shows the means of each column for both the entire data set as well as just the training set. The data_means, overall, appear to be higher than the training_means, indicating our prediction model might underestimate some of the testing data points. "
   ]
  },
  {
   "cell_type": "code",
   "execution_count": 5,
   "id": "dd67e245",
   "metadata": {},
   "outputs": [
    {
     "data": {
      "text/html": [
       "<table class=\"dataframe\">\n",
       "<caption>A tibble: 10 × 3</caption>\n",
       "<thead>\n",
       "\t<tr><th scope=col>data_medians</th><th scope=col>training_medians</th><th scope=col>columns</th></tr>\n",
       "\t<tr><th scope=col>&lt;dbl&gt;</th><th scope=col>&lt;dbl&gt;</th><th scope=col>&lt;chr&gt;</th></tr>\n",
       "</thead>\n",
       "<tbody>\n",
       "\t<tr><td>     13.0</td><td>     14</td><td>Seasons         </td></tr>\n",
       "\t<tr><td>     16.5</td><td>     14</td><td>Best.Rank       </td></tr>\n",
       "\t<tr><td>     21.0</td><td>     21</td><td>Best.Elo.Rank   </td></tr>\n",
       "\t<tr><td>     32.0</td><td>     32</td><td>Age             </td></tr>\n",
       "\t<tr><td>     60.5</td><td>     45</td><td>Current.Rank    </td></tr>\n",
       "\t<tr><td>    188.0</td><td>    188</td><td>Height          </td></tr>\n",
       "\t<tr><td>    249.0</td><td>    222</td><td>GOAT.Rank       </td></tr>\n",
       "\t<tr><td>   1932.5</td><td>   1944</td><td>Current.Elo.Rank</td></tr>\n",
       "\t<tr><td>   2039.5</td><td>   2062</td><td>Peak.Elo.Rating </td></tr>\n",
       "\t<tr><td>8241958.0</td><td>8616024</td><td>Prize.Money     </td></tr>\n",
       "</tbody>\n",
       "</table>\n"
      ],
      "text/latex": [
       "A tibble: 10 × 3\n",
       "\\begin{tabular}{lll}\n",
       " data\\_medians & training\\_medians & columns\\\\\n",
       " <dbl> & <dbl> & <chr>\\\\\n",
       "\\hline\n",
       "\t      13.0 &      14 & Seasons         \\\\\n",
       "\t      16.5 &      14 & Best.Rank       \\\\\n",
       "\t      21.0 &      21 & Best.Elo.Rank   \\\\\n",
       "\t      32.0 &      32 & Age             \\\\\n",
       "\t      60.5 &      45 & Current.Rank    \\\\\n",
       "\t     188.0 &     188 & Height          \\\\\n",
       "\t     249.0 &     222 & GOAT.Rank       \\\\\n",
       "\t    1932.5 &    1944 & Current.Elo.Rank\\\\\n",
       "\t    2039.5 &    2062 & Peak.Elo.Rating \\\\\n",
       "\t 8241958.0 & 8616024 & Prize.Money     \\\\\n",
       "\\end{tabular}\n"
      ],
      "text/markdown": [
       "\n",
       "A tibble: 10 × 3\n",
       "\n",
       "| data_medians &lt;dbl&gt; | training_medians &lt;dbl&gt; | columns &lt;chr&gt; |\n",
       "|---|---|---|\n",
       "|      13.0 |      14 | Seasons          |\n",
       "|      16.5 |      14 | Best.Rank        |\n",
       "|      21.0 |      21 | Best.Elo.Rank    |\n",
       "|      32.0 |      32 | Age              |\n",
       "|      60.5 |      45 | Current.Rank     |\n",
       "|     188.0 |     188 | Height           |\n",
       "|     249.0 |     222 | GOAT.Rank        |\n",
       "|    1932.5 |    1944 | Current.Elo.Rank |\n",
       "|    2039.5 |    2062 | Peak.Elo.Rating  |\n",
       "| 8241958.0 | 8616024 | Prize.Money      |\n",
       "\n"
      ],
      "text/plain": [
       "   data_medians training_medians columns         \n",
       "1       13.0         14          Seasons         \n",
       "2       16.5         14          Best.Rank       \n",
       "3       21.0         21          Best.Elo.Rank   \n",
       "4       32.0         32          Age             \n",
       "5       60.5         45          Current.Rank    \n",
       "6      188.0        188          Height          \n",
       "7      249.0        222          GOAT.Rank       \n",
       "8     1932.5       1944          Current.Elo.Rank\n",
       "9     2039.5       2062          Peak.Elo.Rating \n",
       "10 8241958.0    8616024          Prize.Money     "
      ]
     },
     "metadata": {},
     "output_type": "display_data"
    }
   ],
   "source": [
    "player_stats_medians_train <- map_dbl(player_stats_train, median) |>\n",
    "                           enframe() |> \n",
    "                           arrange(value) |> \n",
    "                           mutate(training_medians = value, columns = name) |> \n",
    "                           select(-value, -name)\n",
    "\n",
    "player_stats_medians_all <- map_dbl(player_stats_tidy, median) |> \n",
    "                           enframe() |> \n",
    "                           arrange(value) |> \n",
    "                           mutate(data_medians = value) |>  \n",
    "                           bind_cols(player_stats_medians_train) |> \n",
    "                           select(-name, -value)\n",
    "\n",
    "player_stats_medians_all"
   ]
  },
  {
   "cell_type": "markdown",
   "id": "fa0d2e8f",
   "metadata": {},
   "source": [
    "This table shows the medians for both the entire data set and the training data. The data_medians and training_medians appear very similar in magnitude. One variable that has a skewed median is current rank, which intuitively makes sense considering some of the higher rankings could have been separated into the testing data causing a lower median. "
   ]
  },
  {
   "cell_type": "code",
   "execution_count": 6,
   "id": "841be782",
   "metadata": {},
   "outputs": [
    {
     "data": {
      "text/html": [
       "<table class=\"dataframe\">\n",
       "<caption>A tibble: 10 × 3</caption>\n",
       "<thead>\n",
       "\t<tr><th scope=col>data_sds</th><th scope=col>training_sds</th><th scope=col>columns</th></tr>\n",
       "\t<tr><th scope=col>&lt;dbl&gt;</th><th scope=col>&lt;dbl&gt;</th><th scope=col>&lt;chr&gt;</th></tr>\n",
       "</thead>\n",
       "<tbody>\n",
       "\t<tr><td>3.513051e+00</td><td>3.732630e+00</td><td>Age             </td></tr>\n",
       "\t<tr><td>3.534199e+00</td><td>3.824243e+00</td><td>Seasons         </td></tr>\n",
       "\t<tr><td>7.801913e+00</td><td>7.659593e+00</td><td>Height          </td></tr>\n",
       "\t<tr><td>1.247744e+01</td><td>1.193510e+01</td><td>Best.Rank       </td></tr>\n",
       "\t<tr><td>1.562872e+01</td><td>1.410650e+01</td><td>Best.Elo.Rank   </td></tr>\n",
       "\t<tr><td>7.532170e+01</td><td>7.396222e+01</td><td>Current.Rank    </td></tr>\n",
       "\t<tr><td>1.468635e+02</td><td>1.494906e+02</td><td>GOAT.Rank       </td></tr>\n",
       "\t<tr><td>1.495543e+02</td><td>1.630103e+02</td><td>Current.Elo.Rank</td></tr>\n",
       "\t<tr><td>1.602614e+02</td><td>1.812297e+02</td><td>Peak.Elo.Rating </td></tr>\n",
       "\t<tr><td>2.621795e+07</td><td>3.356302e+07</td><td>Prize.Money     </td></tr>\n",
       "</tbody>\n",
       "</table>\n"
      ],
      "text/latex": [
       "A tibble: 10 × 3\n",
       "\\begin{tabular}{lll}\n",
       " data\\_sds & training\\_sds & columns\\\\\n",
       " <dbl> & <dbl> & <chr>\\\\\n",
       "\\hline\n",
       "\t 3.513051e+00 & 3.732630e+00 & Age             \\\\\n",
       "\t 3.534199e+00 & 3.824243e+00 & Seasons         \\\\\n",
       "\t 7.801913e+00 & 7.659593e+00 & Height          \\\\\n",
       "\t 1.247744e+01 & 1.193510e+01 & Best.Rank       \\\\\n",
       "\t 1.562872e+01 & 1.410650e+01 & Best.Elo.Rank   \\\\\n",
       "\t 7.532170e+01 & 7.396222e+01 & Current.Rank    \\\\\n",
       "\t 1.468635e+02 & 1.494906e+02 & GOAT.Rank       \\\\\n",
       "\t 1.495543e+02 & 1.630103e+02 & Current.Elo.Rank\\\\\n",
       "\t 1.602614e+02 & 1.812297e+02 & Peak.Elo.Rating \\\\\n",
       "\t 2.621795e+07 & 3.356302e+07 & Prize.Money     \\\\\n",
       "\\end{tabular}\n"
      ],
      "text/markdown": [
       "\n",
       "A tibble: 10 × 3\n",
       "\n",
       "| data_sds &lt;dbl&gt; | training_sds &lt;dbl&gt; | columns &lt;chr&gt; |\n",
       "|---|---|---|\n",
       "| 3.513051e+00 | 3.732630e+00 | Age              |\n",
       "| 3.534199e+00 | 3.824243e+00 | Seasons          |\n",
       "| 7.801913e+00 | 7.659593e+00 | Height           |\n",
       "| 1.247744e+01 | 1.193510e+01 | Best.Rank        |\n",
       "| 1.562872e+01 | 1.410650e+01 | Best.Elo.Rank    |\n",
       "| 7.532170e+01 | 7.396222e+01 | Current.Rank     |\n",
       "| 1.468635e+02 | 1.494906e+02 | GOAT.Rank        |\n",
       "| 1.495543e+02 | 1.630103e+02 | Current.Elo.Rank |\n",
       "| 1.602614e+02 | 1.812297e+02 | Peak.Elo.Rating  |\n",
       "| 2.621795e+07 | 3.356302e+07 | Prize.Money      |\n",
       "\n"
      ],
      "text/plain": [
       "   data_sds     training_sds columns         \n",
       "1  3.513051e+00 3.732630e+00 Age             \n",
       "2  3.534199e+00 3.824243e+00 Seasons         \n",
       "3  7.801913e+00 7.659593e+00 Height          \n",
       "4  1.247744e+01 1.193510e+01 Best.Rank       \n",
       "5  1.562872e+01 1.410650e+01 Best.Elo.Rank   \n",
       "6  7.532170e+01 7.396222e+01 Current.Rank    \n",
       "7  1.468635e+02 1.494906e+02 GOAT.Rank       \n",
       "8  1.495543e+02 1.630103e+02 Current.Elo.Rank\n",
       "9  1.602614e+02 1.812297e+02 Peak.Elo.Rating \n",
       "10 2.621795e+07 3.356302e+07 Prize.Money     "
      ]
     },
     "metadata": {},
     "output_type": "display_data"
    }
   ],
   "source": [
    "player_stats_sd_train <- map_dbl(player_stats_train, sd) |>\n",
    "                           enframe() |> \n",
    "                           arrange(value) |> \n",
    "                           mutate(training_sds = value, columns = name) |> \n",
    "                           select(-value, -name)\n",
    "\n",
    "player_stats_sd_all <- map_dbl(player_stats_tidy, sd) |> \n",
    "                           enframe() |> \n",
    "                           arrange(value) |> \n",
    "                           mutate(data_sds = value) |>  \n",
    "                           bind_cols(player_stats_sd_train) |> \n",
    "                           select(-name, -value)\n",
    "\n",
    "player_stats_sd_all"
   ]
  },
  {
   "cell_type": "markdown",
   "id": "25d4c3af",
   "metadata": {},
   "source": [
    "This table represents the standard deviation of each column in the training data and entire data set. In most cases the training data deviates more greatly, which makes intuitive sense considering a smaller data set will generally be less centered around the mean and deviate slightly more. "
   ]
  },
  {
   "cell_type": "code",
   "execution_count": 7,
   "id": "ec641a7d",
   "metadata": {},
   "outputs": [
    {
     "data": {
      "text/html": [
       "<style>\n",
       ".dl-inline {width: auto; margin:0; padding: 0}\n",
       ".dl-inline>dt, .dl-inline>dd {float: none; width: auto; display: inline-block}\n",
       ".dl-inline>dt::after {content: \":\\0020\"; padding-right: .5ex}\n",
       ".dl-inline>dt:not(:first-of-type) {padding-left: .5ex}\n",
       "</style><dl class=dl-inline><dt>Age</dt><dd>0.187676615171223</dd><dt>Seasons</dt><dd>0.420304695707455</dd><dt>Current.Elo.Rank</dt><dd>0.772163255557386</dd><dt>Best.Elo.Rank</dt><dd>-0.500190890406434</dd><dt>Peak.Elo.Rating</dt><dd>0.849093760713163</dd><dt>Height</dt><dd>0.0280120528872614</dd><dt>Current.Rank</dt><dd>-0.324298197514599</dd><dt>Best.Rank</dt><dd>-0.495117560879312</dd><dt>GOAT.Rank</dt><dd>-0.575072988424228</dd><dt>Prize.Money</dt><dd>1</dd></dl>\n"
      ],
      "text/latex": [
       "\\begin{description*}\n",
       "\\item[Age] 0.187676615171223\n",
       "\\item[Seasons] 0.420304695707455\n",
       "\\item[Current.Elo.Rank] 0.772163255557386\n",
       "\\item[Best.Elo.Rank] -0.500190890406434\n",
       "\\item[Peak.Elo.Rating] 0.849093760713163\n",
       "\\item[Height] 0.0280120528872614\n",
       "\\item[Current.Rank] -0.324298197514599\n",
       "\\item[Best.Rank] -0.495117560879312\n",
       "\\item[GOAT.Rank] -0.575072988424228\n",
       "\\item[Prize.Money] 1\n",
       "\\end{description*}\n"
      ],
      "text/markdown": [
       "Age\n",
       ":   0.187676615171223Seasons\n",
       ":   0.420304695707455Current.Elo.Rank\n",
       ":   0.772163255557386Best.Elo.Rank\n",
       ":   -0.500190890406434Peak.Elo.Rating\n",
       ":   0.849093760713163Height\n",
       ":   0.0280120528872614Current.Rank\n",
       ":   -0.324298197514599Best.Rank\n",
       ":   -0.495117560879312GOAT.Rank\n",
       ":   -0.575072988424228Prize.Money\n",
       ":   1\n",
       "\n"
      ],
      "text/plain": [
       "             Age          Seasons Current.Elo.Rank    Best.Elo.Rank \n",
       "      0.18767662       0.42030470       0.77216326      -0.50019089 \n",
       " Peak.Elo.Rating           Height     Current.Rank        Best.Rank \n",
       "      0.84909376       0.02801205      -0.32429820      -0.49511756 \n",
       "       GOAT.Rank      Prize.Money \n",
       "     -0.57507299       1.00000000 "
      ]
     },
     "metadata": {},
     "output_type": "display_data"
    }
   ],
   "source": [
    "player_cor <- cor(player_stats_tidy)\n",
    "player_cor[ , 10]"
   ]
  },
  {
   "cell_type": "markdown",
   "id": "4b23e1de",
   "metadata": {},
   "source": [
    "Utilizing these correlation coefficients we can determine the strength of the relationships between each possible predictor and what we are trying to predict (prize money). A perfect negative relationship would be represented by a coefficient of -1, whereas a perfect positive relationship would be represented by a coefficient of +1. Although the threshold for predictors can vary between applications, we will look for numbers </= -0.5 or  </= +0.5. Looking at the coefficients for our predictors, Current.Elo.Rank, Best.Elo.Rank, Peak.Elo.Rating, Best.Rank and GOAT.Rank have the highest coefficients that fit the description of being lower than -0.5 or higher than +0.5. Therefore these are the predictors that will be chosen for our best linear regression model. "
   ]
  },
  {
   "cell_type": "code",
   "execution_count": 6,
   "id": "569fc414",
   "metadata": {},
   "outputs": [],
   "source": [
    "player_age_plot <- ggplot(player_stats_train, aes(x = Age, y = Prize.Money)) +\n",
    "  geom_point() +\n",
    "  xlab(\"Age of Player (years)\") +\n",
    "  ylab(\"Prize Money Won\") + \n",
    "  scale_y_continuous(labels = dollar_format()) +\n",
    "  theme(text = element_text(size = 15))\n",
    "\n",
    "player_seasons_plot <- ggplot(player_stats_train, aes(x = Seasons, y = Prize.Money)) +\n",
    "  geom_point() +\n",
    "  xlab(\"Total Seasons Played\") +\n",
    "  ylab(\"Prize Money Won\") + \n",
    "  scale_y_continuous(labels = dollar_format()) +\n",
    "  theme(text = element_text(size = 15))\n",
    "\n",
    "player_current_elo_plot <- ggplot(player_stats_train, aes(x = Current.Elo.Rank, y = Prize.Money)) +\n",
    "  geom_point() +\n",
    "  xlab(\"Current Elo of Player\") +\n",
    "  ylab(\"Prize Money Won\") + \n",
    "  scale_y_continuous(labels = dollar_format()) +\n",
    "  scale_x_discrete(breaks = seq(from = 0, to = 2406, by = 20)) +\n",
    "  theme(text = element_text(size = 15)) + theme(axis.text.x = element_text(angle = 90, hjust = 1))\n",
    "\n",
    "player_best_elo_plot <- ggplot(player_stats_train, aes(x = Best.Elo.Rank, y = Prize.Money)) +\n",
    "  geom_point() +\n",
    "  xlab(\"Best Elo of Player\") +\n",
    "  ylab(\"Prize Money Won\") + \n",
    "  scale_y_continuous(labels = dollar_format()) +\n",
    "  scale_x_discrete(breaks = seq(from = 0, to = 2406, by = 20)) +\n",
    "  theme(text = element_text(size = 15)) + theme(axis.text.x = element_text(angle = 90, hjust = 1))\n",
    "\n",
    "player_peak_elo_plot <- ggplot(player_stats_train, aes(x = Peak.Elo.Rating, y = Prize.Money)) +\n",
    "  geom_point() +\n",
    "  xlab(\"Peak Elo of Player\") +\n",
    "  ylab(\"Prize Money Won\") + \n",
    "  scale_y_continuous(labels = dollar_format()) +\n",
    "  scale_x_discrete(breaks = seq(from = 0, to = 2406, by = 20)) +\n",
    "  theme(text = element_text(size = 15)) + theme(axis.text.x = element_text(angle = 90, hjust = 1))\n",
    "\n",
    "player_height_plot <- ggplot(player_stats_train, aes(x = Height, y = Prize.Money)) +\n",
    "  geom_point() +\n",
    "  xlab(\"Height of Player\") +\n",
    "  ylab(\"Prize Money Won\") + \n",
    "  scale_y_continuous(labels = dollar_format()) +\n",
    "  theme(text = element_text(size = 15))\n",
    "\n",
    "player_current_rank_plot <- ggplot(player_stats_train, aes(x = Current.Rank, y = Prize.Money)) +\n",
    "  geom_point() +\n",
    "  xlab(\"Current Rank of Player\") +\n",
    "  ylab(\"Prize Money Won\") + \n",
    "  scale_y_continuous(labels = dollar_format()) +\n",
    "  theme(text = element_text(size = 15))\n",
    "\n",
    "player_best_rank_plot <- ggplot(player_stats_train, aes(x = Best.Rank, y = Prize.Money)) +\n",
    "  geom_point() +\n",
    "  xlab(\"Best Rank of Player\") +\n",
    "  ylab(\"Prize Money Won\") + \n",
    "  scale_y_continuous(labels = dollar_format()) +\n",
    "  theme(text = element_text(size = 15))\n",
    "\n",
    "player_goat_rank_plot <- ggplot(player_stats_train, aes(x = GOAT.Rank, y = Prize.Money)) +\n",
    "  geom_point() +\n",
    "  xlab(\"GOAT Rank of Player\") +\n",
    "  ylab(\"Prize Money Won\") + \n",
    "  scale_y_continuous(labels = dollar_format()) +\n",
    "  theme(text = element_text(size = 15))"
   ]
  },
  {
   "cell_type": "code",
   "execution_count": 9,
   "id": "d12de5fd",
   "metadata": {},
   "outputs": [
    {
     "data": {
      "image/png": "[encoded data removed]",
      "text/plain": [
       "plot without title"
      ]
     },
     "metadata": {
      "image/png": {
       "height": 1080,
       "width": 1080
      }
     },
     "output_type": "display_data"
    }
   ],
   "source": [
    "options(repr.plot.width= 18, repr.plot.height= 18)\n",
    "plot_grid(player_age_plot, player_seasons_plot, player_current_elo_plot, player_best_elo_plot, player_peak_elo_plot,\n",
    "          player_height_plot, player_current_rank_plot, player_best_rank_plot, player_goat_rank_plot, labels = \"AUTO\")"
   ]
  },
  {
   "cell_type": "markdown",
   "id": "07d089e3-d5d6-4ee0-be6e-784c96bad678",
   "metadata": {},
   "source": [
    "- Plot A shows that the correlation between age and prize money is weak (r = 0.19). This predictor will not be included in our best linear regression model.\n",
    "- Plot B shows that the correlation between seasons and prize money is weak (r = 0.42). This predictor will not be included in our best linear regression model.\n",
    "- Plot C shows that the correlation between current elo and prize money is strong and positive (r = 0.77). This predictor will be included in our best linear regression model.\n",
    "- Plot D shows that the correlation between best elo and prize money is fairly strong and negative (r = -0.5). This predictor will be included in our best linear regression model.\n",
    "- Plot E shows that the correlation between peak elo and prize money is strong and positive ( r = 0.85). This predictor will be included in our best linear regression model.\n",
    "- Plot F shows that the correlation between height and prize money is weak (r = 0.03). This predictor will not be included in our best linear regression model.\n",
    "- Plot G shows that the correlation between current rank and prize money is weak (r = -0.32). This predictor will not be included in our best linear regression model.\n",
    "- Plot H shows that the correlation between best rank and prize money is fairly strong and negative (r = -0.5). This predictor will be included in our best linear regression model.\n",
    "- Plot I shows that the correlation between GOAT rank and prize money is strong and negative (r = -0.58). This predictor will be included in our best linear regression model."
   ]
  },
  {
   "cell_type": "code",
   "execution_count": 20,
   "id": "ddab8dad",
   "metadata": {},
   "outputs": [
    {
     "data": {
      "text/plain": [
       "══ Workflow [trained] ══════════════════════════════════════════════════════════\n",
       "\u001b[3mPreprocessor:\u001b[23m Recipe\n",
       "\u001b[3mModel:\u001b[23m linear_reg()\n",
       "\n",
       "── Preprocessor ────────────────────────────────────────────────────────────────\n",
       "0 Recipe Steps\n",
       "\n",
       "── Model ───────────────────────────────────────────────────────────────────────\n",
       "\n",
       "Call:\n",
       "stats::lm(formula = ..y ~ ., data = data)\n",
       "\n",
       "Coefficients:\n",
       "     (Intercept)               Age           Seasons  Current.Elo.Rank  \n",
       "      -613108014            824089           1361785             33997  \n",
       "   Best.Elo.Rank   Peak.Elo.Rating            Height      Current.Rank  \n",
       "         1465687            227520             57917            -51680  \n",
       "       Best.Rank         GOAT.Rank  \n",
       "         -617175             65233  \n"
      ]
     },
     "metadata": {},
     "output_type": "display_data"
    },
    {
     "data": {
      "text/html": [
       "6940181.03861025"
      ],
      "text/latex": [
       "6940181.03861025"
      ],
      "text/markdown": [
       "6940181.03861025"
      ],
      "text/plain": [
       "[1] 6940181"
      ]
     },
     "metadata": {},
     "output_type": "display_data"
    },
    {
     "data": {
      "text/html": [
       "11129016.6590726"
      ],
      "text/latex": [
       "11129016.6590726"
      ],
      "text/markdown": [
       "11129016.6590726"
      ],
      "text/plain": [
       "[1] 11129017"
      ]
     },
     "metadata": {},
     "output_type": "display_data"
    },
    {
     "data": {
      "text/plain": [
       "══ Workflow [trained] ══════════════════════════════════════════════════════════\n",
       "\u001b[3mPreprocessor:\u001b[23m Recipe\n",
       "\u001b[3mModel:\u001b[23m linear_reg()\n",
       "\n",
       "── Preprocessor ────────────────────────────────────────────────────────────────\n",
       "0 Recipe Steps\n",
       "\n",
       "── Model ───────────────────────────────────────────────────────────────────────\n",
       "\n",
       "Call:\n",
       "stats::lm(formula = ..y ~ ., data = data)\n",
       "\n",
       "Coefficients:\n",
       "     (Intercept)  Current.Elo.Rank     Best.Elo.Rank   Peak.Elo.Rating  \n",
       "      -560925421             33257           1090041            231229  \n",
       "       GOAT.Rank         Best.Rank  \n",
       "           -2997            398694  \n"
      ]
     },
     "metadata": {},
     "output_type": "display_data"
    },
    {
     "data": {
      "text/html": [
       "8999244.60553621"
      ],
      "text/latex": [
       "8999244.60553621"
      ],
      "text/markdown": [
       "8999244.60553621"
      ],
      "text/plain": [
       "[1] 8999245"
      ]
     },
     "metadata": {},
     "output_type": "display_data"
    },
    {
     "data": {
      "text/html": [
       "11161387.6952565"
      ],
      "text/latex": [
       "11161387.6952565"
      ],
      "text/markdown": [
       "11161387.6952565"
      ],
      "text/plain": [
       "[1] 11161388"
      ]
     },
     "metadata": {},
     "output_type": "display_data"
    }
   ],
   "source": [
    "set.seed(2022) \n",
    "\n",
    "lm_spec <- linear_reg() |> set_engine(\"lm\") |> set_mode(\"regression\")\n",
    "\n",
    "tennis_recipe_all <- recipe(\n",
    "    Prize.Money ~ ., data = player_stats_train)\n",
    "\n",
    "tennis_fit_all <- workflow() |> add_recipe(tennis_recipe_all) |>\n",
    "                            add_model(lm_spec) |> \n",
    "                            fit(player_stats_train)\n",
    "tennis_fit_all\n",
    "\n",
    "lm_rmse_all <- tennis_fit_all |> predict(player_stats_train) |>\n",
    "                         bind_cols(player_stats_train) |>\n",
    "                         metrics(truth = Prize.Money, estimate = .pred) |> \n",
    "                         filter(.metric == \"rmse\") |>\n",
    "                         select(.estimate) |>\n",
    "                         pull()\n",
    "lm_rmse_all\n",
    "\n",
    "lm_rmspe_all <- tennis_fit_all |> predict(player_stats_test) |>\n",
    "                          bind_cols(player_stats_test) |> \n",
    "                          metrics(truth = Prize.Money, estimate = .pred) |> \n",
    "                          filter(.metric == \"rmse\") |>\n",
    "                          select(.estimate) |> \n",
    "                          pull()\n",
    "\n",
    "lm_rmspe_all\n",
    "\n",
    "tennis_recipe_best <- recipe(\n",
    "    Prize.Money ~ Current.Elo.Rank + Best.Elo.Rank + Peak.Elo.Rating + GOAT.Rank + Best.Rank, \n",
    "    data = player_stats_train)\n",
    "\n",
    "tennis_fit_best <- workflow() |> add_recipe(tennis_recipe_best) |>\n",
    "                            add_model(lm_spec) |> \n",
    "                            fit(player_stats_train)\n",
    "\n",
    "tennis_fit_best\n",
    "\n",
    "lm_rmse_best <- tennis_fit_best |> predict(player_stats_train) |>\n",
    "                         bind_cols(player_stats_train) |>\n",
    "                         metrics(truth = Prize.Money, estimate = .pred) |> \n",
    "                         filter(.metric == \"rmse\") |>\n",
    "                         select(.estimate) |>\n",
    "                         pull()\n",
    "lm_rmse_best\n",
    "\n",
    "lm_rmspe_best <- tennis_fit_best |> predict(player_stats_test) |>\n",
    "                          bind_cols(player_stats_test) |> \n",
    "                          metrics(truth = Prize.Money, estimate = .pred) |> \n",
    "                          filter(.metric == \"rmse\") |>\n",
    "                          select(.estimate) |> \n",
    "                          pull()\n",
    "lm_rmspe_best"
   ]
  },
  {
   "cell_type": "markdown",
   "id": "12937e91",
   "metadata": {},
   "source": [
    ">> insert method and results"
   ]
  },
  {
   "cell_type": "markdown",
   "id": "9e5eaa0b",
   "metadata": {},
   "source": [
    ">> insert discussion"
   ]
  },
  {
   "cell_type": "markdown",
   "id": "445965a3",
   "metadata": {},
   "source": [
    "**MLA Cited References**\n",
    "\n",
    "Flake, Collin R., et al. “Advantage Men: The Sex Pay Gap in Professional Tennis .” International Review for the Sociology of Sport , vol. 48, no. 3, SAGE Publications , 2013, pp. 366–76, doi:10.1177/1012690212442166 .\n",
    " \n",
    "Jenkat, Rahul. “Tennis Rules: Know How to Play.” Olympics.com, International Olympic Committee, 1 Aug. 2022, https://olympics.com/en/news/tennis-rules-regulations-how-to-play-basics. \n",
    "\n",
    "Jeff, Author. “An Introduction to Tennis Elo.” Heavy Topspin, 3 Dec. 2019, http://www.tennisabstract.com/blog/2019/12/03/an-introduction-to-tennis-elo/. \n",
    "\n",
    "Šimić, Vladimir. “Prize Money Earnings of Tennis Professionals and the Impact of COVID-19 Pandemic .” International Journal of Business and Economic Sciences Applied Research , vol. 14, no. 1, Eastern Macedonia and Thrace Institute of Technology , 2021, pp. 47–57, doi:10.25103/ijbesar.141.04 .\n",
    "\n",
    "Ultimate Tennis Statistics, https://www.ultimatetennisstatistics.com/. "
   ]
  }
 ],
 "metadata": {
  "kernelspec": {
   "display_name": "R",
   "language": "R",
   "name": "ir"
  },
  "language_info": {
   "codemirror_mode": "r",
   "file_extension": ".r",
   "mimetype": "text/x-r-source",
   "name": "R",
   "pygments_lexer": "r",
   "version": "4.1.3"
  }
 },
 "nbformat": 4,
 "nbformat_minor": 5
}
