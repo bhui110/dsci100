{
 "cells": [
  {
   "cell_type": "markdown",
   "id": "f189aa75",
   "metadata": {},
   "source": [
    "Analysis of Tennis Player Prize Money"
   ]
  },
  {
   "cell_type": "markdown",
   "id": "96dd1e85",
   "metadata": {},
   "source": [
    "By Harmony Allan-Mah, Brandon Hui, Leo Qu and Elena Zettelmeyer"
   ]
  },
  {
   "cell_type": "markdown",
   "id": "6380814d",
   "metadata": {},
   "source": [
    ">> insert\n"
   ]
  },
  {
   "cell_type": "code",
   "execution_count": 1,
   "id": "0121cc7d",
   "metadata": {},
   "outputs": [
    {
     "name": "stderr",
     "output_type": "stream",
     "text": [
      "── \u001b[1mAttaching packages\u001b[22m ─────────────────────────────────────── tidyverse 1.3.1 ──\n",
      "\n",
      "\u001b[32m✔\u001b[39m \u001b[34mggplot2\u001b[39m 3.3.6     \u001b[32m✔\u001b[39m \u001b[34mpurrr  \u001b[39m 0.3.4\n",
      "\u001b[32m✔\u001b[39m \u001b[34mtibble \u001b[39m 3.1.7     \u001b[32m✔\u001b[39m \u001b[34mdplyr  \u001b[39m 1.0.9\n",
      "\u001b[32m✔\u001b[39m \u001b[34mtidyr  \u001b[39m 1.2.0     \u001b[32m✔\u001b[39m \u001b[34mstringr\u001b[39m 1.4.0\n",
      "\u001b[32m✔\u001b[39m \u001b[34mreadr  \u001b[39m 2.1.2     \u001b[32m✔\u001b[39m \u001b[34mforcats\u001b[39m 0.5.1\n",
      "\n",
      "── \u001b[1mConflicts\u001b[22m ────────────────────────────────────────── tidyverse_conflicts() ──\n",
      "\u001b[31m✖\u001b[39m \u001b[34mdplyr\u001b[39m::\u001b[32mfilter()\u001b[39m masks \u001b[34mstats\u001b[39m::filter()\n",
      "\u001b[31m✖\u001b[39m \u001b[34mdplyr\u001b[39m::\u001b[32mlag()\u001b[39m    masks \u001b[34mstats\u001b[39m::lag()\n",
      "\n",
      "── \u001b[1mAttaching packages\u001b[22m ────────────────────────────────────── tidymodels 1.0.0 ──\n",
      "\n",
      "\u001b[32m✔\u001b[39m \u001b[34mbroom       \u001b[39m 1.0.0     \u001b[32m✔\u001b[39m \u001b[34mrsample     \u001b[39m 1.0.0\n",
      "\u001b[32m✔\u001b[39m \u001b[34mdials       \u001b[39m 1.0.0     \u001b[32m✔\u001b[39m \u001b[34mtune        \u001b[39m 1.0.0\n",
      "\u001b[32m✔\u001b[39m \u001b[34minfer       \u001b[39m 1.0.2     \u001b[32m✔\u001b[39m \u001b[34mworkflows   \u001b[39m 1.0.0\n",
      "\u001b[32m✔\u001b[39m \u001b[34mmodeldata   \u001b[39m 1.0.0     \u001b[32m✔\u001b[39m \u001b[34mworkflowsets\u001b[39m 1.0.0\n",
      "\u001b[32m✔\u001b[39m \u001b[34mparsnip     \u001b[39m 1.0.0     \u001b[32m✔\u001b[39m \u001b[34myardstick   \u001b[39m 1.0.0\n",
      "\u001b[32m✔\u001b[39m \u001b[34mrecipes     \u001b[39m 1.0.1     \n",
      "\n",
      "── \u001b[1mConflicts\u001b[22m ───────────────────────────────────────── tidymodels_conflicts() ──\n",
      "\u001b[31m✖\u001b[39m \u001b[34mscales\u001b[39m::\u001b[32mdiscard()\u001b[39m masks \u001b[34mpurrr\u001b[39m::discard()\n",
      "\u001b[31m✖\u001b[39m \u001b[34mdplyr\u001b[39m::\u001b[32mfilter()\u001b[39m   masks \u001b[34mstats\u001b[39m::filter()\n",
      "\u001b[31m✖\u001b[39m \u001b[34mrecipes\u001b[39m::\u001b[32mfixed()\u001b[39m  masks \u001b[34mstringr\u001b[39m::fixed()\n",
      "\u001b[31m✖\u001b[39m \u001b[34mdplyr\u001b[39m::\u001b[32mlag()\u001b[39m      masks \u001b[34mstats\u001b[39m::lag()\n",
      "\u001b[31m✖\u001b[39m \u001b[34myardstick\u001b[39m::\u001b[32mspec()\u001b[39m masks \u001b[34mreadr\u001b[39m::spec()\n",
      "\u001b[31m✖\u001b[39m \u001b[34mrecipes\u001b[39m::\u001b[32mstep()\u001b[39m   masks \u001b[34mstats\u001b[39m::step()\n",
      "\u001b[34m•\u001b[39m Dig deeper into tidy modeling with R at \u001b[32mhttps://www.tmwr.org\u001b[39m\n",
      "\n",
      "\n",
      "Attaching package: ‘gridExtra’\n",
      "\n",
      "\n",
      "The following object is masked from ‘package:dplyr’:\n",
      "\n",
      "    combine\n",
      "\n",
      "\n",
      "Registered S3 method overwritten by 'GGally':\n",
      "  method from   \n",
      "  +.gg   ggplot2\n",
      "\n",
      "\u001b[1m\u001b[22mNew names:\n",
      "\u001b[36m•\u001b[39m `` -> `...1`\n",
      "\u001b[1mRows: \u001b[22m\u001b[34m500\u001b[39m \u001b[1mColumns: \u001b[22m\u001b[34m38\u001b[39m\n",
      "\u001b[36m──\u001b[39m \u001b[1mColumn specification\u001b[22m \u001b[36m────────────────────────────────────────────────────────\u001b[39m\n",
      "\u001b[1mDelimiter:\u001b[22m \",\"\n",
      "\u001b[31mchr\u001b[39m (25): Age, Country, Plays, Wikipedia, Current Rank, Best Rank, Name, Bac...\n",
      "\u001b[32mdbl\u001b[39m (13): ...1, Turned Pro, Seasons, Titles, Best Season, Retired, Masters, ...\n",
      "\n",
      "\u001b[36mℹ\u001b[39m Use `spec()` to retrieve the full column specification for this data.\n",
      "\u001b[36mℹ\u001b[39m Specify the column types or set `show_col_types = FALSE` to quiet this message.\n"
     ]
    },
    {
     "data": {
      "text/html": [
       "<table class=\"dataframe\">\n",
       "<caption>A tibble: 68 × 10</caption>\n",
       "<thead>\n",
       "\t<tr><th scope=col>Age</th><th scope=col>Seasons</th><th scope=col>Current.Elo.Rank</th><th scope=col>Best.Elo.Rank</th><th scope=col>Peak.Elo.Rating</th><th scope=col>Height</th><th scope=col>Current.Rank</th><th scope=col>Best.Rank</th><th scope=col>GOAT.Rank</th><th scope=col>Prize.Money</th></tr>\n",
       "\t<tr><th scope=col>&lt;dbl&gt;</th><th scope=col>&lt;dbl&gt;</th><th scope=col>&lt;dbl&gt;</th><th scope=col>&lt;dbl&gt;</th><th scope=col>&lt;dbl&gt;</th><th scope=col>&lt;dbl&gt;</th><th scope=col>&lt;dbl&gt;</th><th scope=col>&lt;dbl&gt;</th><th scope=col>&lt;dbl&gt;</th><th scope=col>&lt;dbl&gt;</th></tr>\n",
       "</thead>\n",
       "<tbody>\n",
       "\t<tr><td>27</td><td>11</td><td>1826</td><td>21</td><td>2037</td><td>193</td><td>183</td><td>17</td><td>264</td><td>  6091971</td></tr>\n",
       "\t<tr><td>31</td><td>14</td><td>2211</td><td> 3</td><td>2329</td><td>198</td><td>121</td><td> 3</td><td> 33</td><td> 25889586</td></tr>\n",
       "\t<tr><td>33</td><td>14</td><td>1791</td><td>29</td><td>2004</td><td>190</td><td>130</td><td>19</td><td>264</td><td> 10821168</td></tr>\n",
       "\t<tr><td>32</td><td>15</td><td>1993</td><td>18</td><td>2068</td><td>198</td><td> 45</td><td>11</td><td>157</td><td> 11912152</td></tr>\n",
       "\t<tr><td>32</td><td>16</td><td>2004</td><td>14</td><td>2112</td><td>178</td><td> 12</td><td> 9</td><td>151</td><td> 13470614</td></tr>\n",
       "\t<tr><td>29</td><td>11</td><td>1892</td><td>35</td><td>1962</td><td>180</td><td> 27</td><td>23</td><td>357</td><td>  4850190</td></tr>\n",
       "\t<tr><td>32</td><td>13</td><td>1860</td><td>44</td><td>1946</td><td>190</td><td>161</td><td>33</td><td>357</td><td>  7114496</td></tr>\n",
       "\t<tr><td>27</td><td>11</td><td>1845</td><td>38</td><td>1953</td><td>183</td><td>304</td><td>40</td><td>489</td><td>  4660132</td></tr>\n",
       "\t<tr><td>35</td><td>18</td><td>1879</td><td>21</td><td>2029</td><td>190</td><td> 85</td><td>18</td><td>293</td><td> 10581476</td></tr>\n",
       "\t<tr><td>27</td><td> 8</td><td>2025</td><td>18</td><td>2066</td><td>170</td><td> 14</td><td>11</td><td>222</td><td>  7217264</td></tr>\n",
       "\t<tr><td>27</td><td>11</td><td>1985</td><td>29</td><td>2000</td><td>185</td><td> 41</td><td>26</td><td>400</td><td>  3062847</td></tr>\n",
       "\t<tr><td>28</td><td> 9</td><td>2002</td><td>21</td><td>2071</td><td>188</td><td> 30</td><td>10</td><td>202</td><td>  8892564</td></tr>\n",
       "\t<tr><td>33</td><td>19</td><td>2406</td><td> 1</td><td>2552</td><td>185</td><td>  1</td><td> 1</td><td>  3</td><td>119601561</td></tr>\n",
       "\t<tr><td>31</td><td>11</td><td>2080</td><td> 9</td><td>2135</td><td>183</td><td>  9</td><td> 9</td><td>151</td><td> 12067808</td></tr>\n",
       "\t<tr><td>32</td><td>15</td><td>1965</td><td>23</td><td>2016</td><td>188</td><td> 58</td><td>25</td><td>357</td><td>  8658443</td></tr>\n",
       "\t<tr><td>22</td><td> 8</td><td>2096</td><td> 5</td><td>2231</td><td>198</td><td>  7</td><td> 3</td><td> 65</td><td> 20028563</td></tr>\n",
       "\t<tr><td>32</td><td>11</td><td>1946</td><td>25</td><td>2014</td><td>188</td><td> 42</td><td>17</td><td>293</td><td>  7062030</td></tr>\n",
       "\t<tr><td>38</td><td>20</td><td>1886</td><td>35</td><td>1970</td><td>190</td><td>191</td><td>37</td><td>325</td><td> 10262279</td></tr>\n",
       "\t<tr><td>33</td><td>14</td><td>1850</td><td>15</td><td>2091</td><td>193</td><td>159</td><td>12</td><td>264</td><td>  8638698</td></tr>\n",
       "\t<tr><td>31</td><td>16</td><td>2037</td><td> 6</td><td>2232</td><td>198</td><td> 39</td><td> 3</td><td> 53</td><td> 27466016</td></tr>\n",
       "\t<tr><td>29</td><td>11</td><td>1811</td><td>72</td><td>1875</td><td>193</td><td>152</td><td>56</td><td>489</td><td>  2432075</td></tr>\n",
       "\t<tr><td>29</td><td>12</td><td>1793</td><td>41</td><td>1953</td><td>190</td><td> 76</td><td>33</td><td>325</td><td>  3611278</td></tr>\n",
       "\t<tr><td>30</td><td>13</td><td>2114</td><td> 4</td><td>2296</td><td>178</td><td> 18</td><td> 4</td><td> 49</td><td> 23846631</td></tr>\n",
       "\t<tr><td>27</td><td>10</td><td>1830</td><td>32</td><td>1994</td><td>172</td><td> 92</td><td>23</td><td>357</td><td>  3869834</td></tr>\n",
       "\t<tr><td>35</td><td>17</td><td>1786</td><td> 9</td><td>2158</td><td>180</td><td>211</td><td> 8</td><td>183</td><td>  8616024</td></tr>\n",
       "\t<tr><td>25</td><td> 7</td><td>1975</td><td>20</td><td>2069</td><td>185</td><td> 24</td><td>10</td><td>169</td><td>  7487708</td></tr>\n",
       "\t<tr><td>30</td><td>11</td><td>1965</td><td>25</td><td>2003</td><td>196</td><td> 21</td><td>18</td><td>293</td><td>  7774890</td></tr>\n",
       "\t<tr><td>31</td><td>13</td><td>1926</td><td>29</td><td>2004</td><td>183</td><td> 44</td><td>22</td><td>400</td><td>  6903920</td></tr>\n",
       "\t<tr><td>32</td><td>14</td><td>1900</td><td>41</td><td>1944</td><td>183</td><td> 68</td><td>39</td><td>489</td><td>  4997728</td></tr>\n",
       "\t<tr><td>33</td><td>15</td><td>1769</td><td>31</td><td>1987</td><td>188</td><td>170</td><td>33</td><td>400</td><td>  5965778</td></tr>\n",
       "\t<tr><td>⋮</td><td>⋮</td><td>⋮</td><td>⋮</td><td>⋮</td><td>⋮</td><td>⋮</td><td>⋮</td><td>⋮</td><td>⋮</td></tr>\n",
       "\t<tr><td>32</td><td>14</td><td>1755</td><td>32</td><td>1970</td><td>188</td><td>277</td><td>28</td><td>489</td><td>     4416</td></tr>\n",
       "\t<tr><td>31</td><td>13</td><td>1770</td><td>43</td><td>1933</td><td>173</td><td> 91</td><td>36</td><td>489</td><td>  1843740</td></tr>\n",
       "\t<tr><td>32</td><td>13</td><td>1863</td><td>28</td><td>1999</td><td>188</td><td>101</td><td>21</td><td>293</td><td>  6492427</td></tr>\n",
       "\t<tr><td>32</td><td>13</td><td>1748</td><td>37</td><td>1968</td><td>190</td><td>281</td><td>25</td><td>400</td><td>  5647193</td></tr>\n",
       "\t<tr><td>32</td><td>15</td><td>2185</td><td> 2</td><td>2500</td><td>190</td><td>128</td><td> 1</td><td> 12</td><td> 61544007</td></tr>\n",
       "\t<tr><td>30</td><td>12</td><td>1839</td><td>26</td><td>1998</td><td>190</td><td>144</td><td>24</td><td>234</td><td>  4810128</td></tr>\n",
       "\t<tr><td>35</td><td>15</td><td>1803</td><td>41</td><td>1951</td><td>178</td><td>176</td><td>38</td><td>357</td><td>  3311462</td></tr>\n",
       "\t<tr><td>36</td><td>19</td><td>1945</td><td> 7</td><td>2204</td><td>188</td><td> 51</td><td> 7</td><td>133</td><td> 17353811</td></tr>\n",
       "\t<tr><td>38</td><td>22</td><td>2328</td><td> 1</td><td>2550</td><td>185</td><td>  3</td><td> 1</td><td>  1</td><td>129231891</td></tr>\n",
       "\t<tr><td>40</td><td>20</td><td>1806</td><td>16</td><td>2062</td><td>208</td><td>124</td><td>14</td><td>133</td><td>  9845365</td></tr>\n",
       "\t<tr><td>36</td><td>17</td><td>1778</td><td>29</td><td>2009</td><td>188</td><td>160</td><td>23</td><td>293</td><td>  8003533</td></tr>\n",
       "\t<tr><td>34</td><td>18</td><td>2108</td><td> 5</td><td>2291</td><td>183</td><td> 15</td><td> 3</td><td> 36</td><td> 33790279</td></tr>\n",
       "\t<tr><td>34</td><td>13</td><td>1829</td><td>29</td><td>1982</td><td>196</td><td>177</td><td>26</td><td>400</td><td>  4209879</td></tr>\n",
       "\t<tr><td>38</td><td>22</td><td>1944</td><td>16</td><td>2074</td><td>188</td><td> 57</td><td>12</td><td>133</td><td> 17114510</td></tr>\n",
       "\t<tr><td>38</td><td>13</td><td>1768</td><td>62</td><td>1895</td><td>183</td><td>116</td><td>33</td><td>489</td><td>  4927689</td></tr>\n",
       "\t<tr><td>29</td><td>10</td><td>2093</td><td> 8</td><td>2165</td><td>163</td><td> 11</td><td> 7</td><td>119</td><td> 13578010</td></tr>\n",
       "\t<tr><td>30</td><td>10</td><td>1877</td><td>21</td><td>2042</td><td>188</td><td> 75</td><td>21</td><td>293</td><td>  5970907</td></tr>\n",
       "\t<tr><td>34</td><td>16</td><td>1818</td><td>44</td><td>1947</td><td>193</td><td>153</td><td>31</td><td>325</td><td>  5349041</td></tr>\n",
       "\t<tr><td>33</td><td>17</td><td>2030</td><td> 7</td><td>2189</td><td>193</td><td> 10</td><td> 6</td><td> 83</td><td> 17930816</td></tr>\n",
       "\t<tr><td>29</td><td> 9</td><td>1960</td><td>29</td><td>2009</td><td>185</td><td> 25</td><td>20</td><td>357</td><td>  4292576</td></tr>\n",
       "\t<tr><td>33</td><td>18</td><td>1973</td><td> 9</td><td>2196</td><td>185</td><td> 60</td><td> 7</td><td> 85</td><td> 18125457</td></tr>\n",
       "\t<tr><td>24</td><td> 8</td><td>2083</td><td>10</td><td>2176</td><td>193</td><td> 26</td><td>13</td><td>165</td><td>  8001478</td></tr>\n",
       "\t<tr><td>34</td><td>14</td><td>2007</td><td> 9</td><td>2148</td><td>206</td><td> 19</td><td> 8</td><td> 71</td><td> 18669906</td></tr>\n",
       "\t<tr><td>36</td><td>18</td><td>1939</td><td>14</td><td>2117</td><td>178</td><td> 79</td><td>16</td><td>222</td><td> 12807597</td></tr>\n",
       "\t<tr><td>29</td><td>11</td><td>1891</td><td>37</td><td>1962</td><td>193</td><td>138</td><td>25</td><td>357</td><td>  5287905</td></tr>\n",
       "\t<tr><td>30</td><td> 9</td><td>1841</td><td>45</td><td>1935</td><td>185</td><td>120</td><td>39</td><td>489</td><td>  2562473</td></tr>\n",
       "\t<tr><td>34</td><td>16</td><td>1856</td><td>26</td><td>2004</td><td>180</td><td> 46</td><td>19</td><td>222</td><td>  8480383</td></tr>\n",
       "\t<tr><td>35</td><td>17</td><td>1894</td><td> 9</td><td>2124</td><td>183</td><td> 61</td><td> 6</td><td>106</td><td> 14773644</td></tr>\n",
       "\t<tr><td>29</td><td>12</td><td>2048</td><td> 5</td><td>2269</td><td>196</td><td> 35</td><td> 3</td><td> 68</td><td> 18879855</td></tr>\n",
       "\t<tr><td>26</td><td>10</td><td>2188</td><td> 5</td><td>2211</td><td>185</td><td>  5</td><td> 4</td><td> 58</td><td> 22132368</td></tr>\n",
       "</tbody>\n",
       "</table>\n"
      ],
      "text/latex": [
       "A tibble: 68 × 10\n",
       "\\begin{tabular}{llllllllll}\n",
       " Age & Seasons & Current.Elo.Rank & Best.Elo.Rank & Peak.Elo.Rating & Height & Current.Rank & Best.Rank & GOAT.Rank & Prize.Money\\\\\n",
       " <dbl> & <dbl> & <dbl> & <dbl> & <dbl> & <dbl> & <dbl> & <dbl> & <dbl> & <dbl>\\\\\n",
       "\\hline\n",
       "\t 27 & 11 & 1826 & 21 & 2037 & 193 & 183 & 17 & 264 &   6091971\\\\\n",
       "\t 31 & 14 & 2211 &  3 & 2329 & 198 & 121 &  3 &  33 &  25889586\\\\\n",
       "\t 33 & 14 & 1791 & 29 & 2004 & 190 & 130 & 19 & 264 &  10821168\\\\\n",
       "\t 32 & 15 & 1993 & 18 & 2068 & 198 &  45 & 11 & 157 &  11912152\\\\\n",
       "\t 32 & 16 & 2004 & 14 & 2112 & 178 &  12 &  9 & 151 &  13470614\\\\\n",
       "\t 29 & 11 & 1892 & 35 & 1962 & 180 &  27 & 23 & 357 &   4850190\\\\\n",
       "\t 32 & 13 & 1860 & 44 & 1946 & 190 & 161 & 33 & 357 &   7114496\\\\\n",
       "\t 27 & 11 & 1845 & 38 & 1953 & 183 & 304 & 40 & 489 &   4660132\\\\\n",
       "\t 35 & 18 & 1879 & 21 & 2029 & 190 &  85 & 18 & 293 &  10581476\\\\\n",
       "\t 27 &  8 & 2025 & 18 & 2066 & 170 &  14 & 11 & 222 &   7217264\\\\\n",
       "\t 27 & 11 & 1985 & 29 & 2000 & 185 &  41 & 26 & 400 &   3062847\\\\\n",
       "\t 28 &  9 & 2002 & 21 & 2071 & 188 &  30 & 10 & 202 &   8892564\\\\\n",
       "\t 33 & 19 & 2406 &  1 & 2552 & 185 &   1 &  1 &   3 & 119601561\\\\\n",
       "\t 31 & 11 & 2080 &  9 & 2135 & 183 &   9 &  9 & 151 &  12067808\\\\\n",
       "\t 32 & 15 & 1965 & 23 & 2016 & 188 &  58 & 25 & 357 &   8658443\\\\\n",
       "\t 22 &  8 & 2096 &  5 & 2231 & 198 &   7 &  3 &  65 &  20028563\\\\\n",
       "\t 32 & 11 & 1946 & 25 & 2014 & 188 &  42 & 17 & 293 &   7062030\\\\\n",
       "\t 38 & 20 & 1886 & 35 & 1970 & 190 & 191 & 37 & 325 &  10262279\\\\\n",
       "\t 33 & 14 & 1850 & 15 & 2091 & 193 & 159 & 12 & 264 &   8638698\\\\\n",
       "\t 31 & 16 & 2037 &  6 & 2232 & 198 &  39 &  3 &  53 &  27466016\\\\\n",
       "\t 29 & 11 & 1811 & 72 & 1875 & 193 & 152 & 56 & 489 &   2432075\\\\\n",
       "\t 29 & 12 & 1793 & 41 & 1953 & 190 &  76 & 33 & 325 &   3611278\\\\\n",
       "\t 30 & 13 & 2114 &  4 & 2296 & 178 &  18 &  4 &  49 &  23846631\\\\\n",
       "\t 27 & 10 & 1830 & 32 & 1994 & 172 &  92 & 23 & 357 &   3869834\\\\\n",
       "\t 35 & 17 & 1786 &  9 & 2158 & 180 & 211 &  8 & 183 &   8616024\\\\\n",
       "\t 25 &  7 & 1975 & 20 & 2069 & 185 &  24 & 10 & 169 &   7487708\\\\\n",
       "\t 30 & 11 & 1965 & 25 & 2003 & 196 &  21 & 18 & 293 &   7774890\\\\\n",
       "\t 31 & 13 & 1926 & 29 & 2004 & 183 &  44 & 22 & 400 &   6903920\\\\\n",
       "\t 32 & 14 & 1900 & 41 & 1944 & 183 &  68 & 39 & 489 &   4997728\\\\\n",
       "\t 33 & 15 & 1769 & 31 & 1987 & 188 & 170 & 33 & 400 &   5965778\\\\\n",
       "\t ⋮ & ⋮ & ⋮ & ⋮ & ⋮ & ⋮ & ⋮ & ⋮ & ⋮ & ⋮\\\\\n",
       "\t 32 & 14 & 1755 & 32 & 1970 & 188 & 277 & 28 & 489 &      4416\\\\\n",
       "\t 31 & 13 & 1770 & 43 & 1933 & 173 &  91 & 36 & 489 &   1843740\\\\\n",
       "\t 32 & 13 & 1863 & 28 & 1999 & 188 & 101 & 21 & 293 &   6492427\\\\\n",
       "\t 32 & 13 & 1748 & 37 & 1968 & 190 & 281 & 25 & 400 &   5647193\\\\\n",
       "\t 32 & 15 & 2185 &  2 & 2500 & 190 & 128 &  1 &  12 &  61544007\\\\\n",
       "\t 30 & 12 & 1839 & 26 & 1998 & 190 & 144 & 24 & 234 &   4810128\\\\\n",
       "\t 35 & 15 & 1803 & 41 & 1951 & 178 & 176 & 38 & 357 &   3311462\\\\\n",
       "\t 36 & 19 & 1945 &  7 & 2204 & 188 &  51 &  7 & 133 &  17353811\\\\\n",
       "\t 38 & 22 & 2328 &  1 & 2550 & 185 &   3 &  1 &   1 & 129231891\\\\\n",
       "\t 40 & 20 & 1806 & 16 & 2062 & 208 & 124 & 14 & 133 &   9845365\\\\\n",
       "\t 36 & 17 & 1778 & 29 & 2009 & 188 & 160 & 23 & 293 &   8003533\\\\\n",
       "\t 34 & 18 & 2108 &  5 & 2291 & 183 &  15 &  3 &  36 &  33790279\\\\\n",
       "\t 34 & 13 & 1829 & 29 & 1982 & 196 & 177 & 26 & 400 &   4209879\\\\\n",
       "\t 38 & 22 & 1944 & 16 & 2074 & 188 &  57 & 12 & 133 &  17114510\\\\\n",
       "\t 38 & 13 & 1768 & 62 & 1895 & 183 & 116 & 33 & 489 &   4927689\\\\\n",
       "\t 29 & 10 & 2093 &  8 & 2165 & 163 &  11 &  7 & 119 &  13578010\\\\\n",
       "\t 30 & 10 & 1877 & 21 & 2042 & 188 &  75 & 21 & 293 &   5970907\\\\\n",
       "\t 34 & 16 & 1818 & 44 & 1947 & 193 & 153 & 31 & 325 &   5349041\\\\\n",
       "\t 33 & 17 & 2030 &  7 & 2189 & 193 &  10 &  6 &  83 &  17930816\\\\\n",
       "\t 29 &  9 & 1960 & 29 & 2009 & 185 &  25 & 20 & 357 &   4292576\\\\\n",
       "\t 33 & 18 & 1973 &  9 & 2196 & 185 &  60 &  7 &  85 &  18125457\\\\\n",
       "\t 24 &  8 & 2083 & 10 & 2176 & 193 &  26 & 13 & 165 &   8001478\\\\\n",
       "\t 34 & 14 & 2007 &  9 & 2148 & 206 &  19 &  8 &  71 &  18669906\\\\\n",
       "\t 36 & 18 & 1939 & 14 & 2117 & 178 &  79 & 16 & 222 &  12807597\\\\\n",
       "\t 29 & 11 & 1891 & 37 & 1962 & 193 & 138 & 25 & 357 &   5287905\\\\\n",
       "\t 30 &  9 & 1841 & 45 & 1935 & 185 & 120 & 39 & 489 &   2562473\\\\\n",
       "\t 34 & 16 & 1856 & 26 & 2004 & 180 &  46 & 19 & 222 &   8480383\\\\\n",
       "\t 35 & 17 & 1894 &  9 & 2124 & 183 &  61 &  6 & 106 &  14773644\\\\\n",
       "\t 29 & 12 & 2048 &  5 & 2269 & 196 &  35 &  3 &  68 &  18879855\\\\\n",
       "\t 26 & 10 & 2188 &  5 & 2211 & 185 &   5 &  4 &  58 &  22132368\\\\\n",
       "\\end{tabular}\n"
      ],
      "text/markdown": [
       "\n",
       "A tibble: 68 × 10\n",
       "\n",
       "| Age &lt;dbl&gt; | Seasons &lt;dbl&gt; | Current.Elo.Rank &lt;dbl&gt; | Best.Elo.Rank &lt;dbl&gt; | Peak.Elo.Rating &lt;dbl&gt; | Height &lt;dbl&gt; | Current.Rank &lt;dbl&gt; | Best.Rank &lt;dbl&gt; | GOAT.Rank &lt;dbl&gt; | Prize.Money &lt;dbl&gt; |\n",
       "|---|---|---|---|---|---|---|---|---|---|\n",
       "| 27 | 11 | 1826 | 21 | 2037 | 193 | 183 | 17 | 264 |   6091971 |\n",
       "| 31 | 14 | 2211 |  3 | 2329 | 198 | 121 |  3 |  33 |  25889586 |\n",
       "| 33 | 14 | 1791 | 29 | 2004 | 190 | 130 | 19 | 264 |  10821168 |\n",
       "| 32 | 15 | 1993 | 18 | 2068 | 198 |  45 | 11 | 157 |  11912152 |\n",
       "| 32 | 16 | 2004 | 14 | 2112 | 178 |  12 |  9 | 151 |  13470614 |\n",
       "| 29 | 11 | 1892 | 35 | 1962 | 180 |  27 | 23 | 357 |   4850190 |\n",
       "| 32 | 13 | 1860 | 44 | 1946 | 190 | 161 | 33 | 357 |   7114496 |\n",
       "| 27 | 11 | 1845 | 38 | 1953 | 183 | 304 | 40 | 489 |   4660132 |\n",
       "| 35 | 18 | 1879 | 21 | 2029 | 190 |  85 | 18 | 293 |  10581476 |\n",
       "| 27 |  8 | 2025 | 18 | 2066 | 170 |  14 | 11 | 222 |   7217264 |\n",
       "| 27 | 11 | 1985 | 29 | 2000 | 185 |  41 | 26 | 400 |   3062847 |\n",
       "| 28 |  9 | 2002 | 21 | 2071 | 188 |  30 | 10 | 202 |   8892564 |\n",
       "| 33 | 19 | 2406 |  1 | 2552 | 185 |   1 |  1 |   3 | 119601561 |\n",
       "| 31 | 11 | 2080 |  9 | 2135 | 183 |   9 |  9 | 151 |  12067808 |\n",
       "| 32 | 15 | 1965 | 23 | 2016 | 188 |  58 | 25 | 357 |   8658443 |\n",
       "| 22 |  8 | 2096 |  5 | 2231 | 198 |   7 |  3 |  65 |  20028563 |\n",
       "| 32 | 11 | 1946 | 25 | 2014 | 188 |  42 | 17 | 293 |   7062030 |\n",
       "| 38 | 20 | 1886 | 35 | 1970 | 190 | 191 | 37 | 325 |  10262279 |\n",
       "| 33 | 14 | 1850 | 15 | 2091 | 193 | 159 | 12 | 264 |   8638698 |\n",
       "| 31 | 16 | 2037 |  6 | 2232 | 198 |  39 |  3 |  53 |  27466016 |\n",
       "| 29 | 11 | 1811 | 72 | 1875 | 193 | 152 | 56 | 489 |   2432075 |\n",
       "| 29 | 12 | 1793 | 41 | 1953 | 190 |  76 | 33 | 325 |   3611278 |\n",
       "| 30 | 13 | 2114 |  4 | 2296 | 178 |  18 |  4 |  49 |  23846631 |\n",
       "| 27 | 10 | 1830 | 32 | 1994 | 172 |  92 | 23 | 357 |   3869834 |\n",
       "| 35 | 17 | 1786 |  9 | 2158 | 180 | 211 |  8 | 183 |   8616024 |\n",
       "| 25 |  7 | 1975 | 20 | 2069 | 185 |  24 | 10 | 169 |   7487708 |\n",
       "| 30 | 11 | 1965 | 25 | 2003 | 196 |  21 | 18 | 293 |   7774890 |\n",
       "| 31 | 13 | 1926 | 29 | 2004 | 183 |  44 | 22 | 400 |   6903920 |\n",
       "| 32 | 14 | 1900 | 41 | 1944 | 183 |  68 | 39 | 489 |   4997728 |\n",
       "| 33 | 15 | 1769 | 31 | 1987 | 188 | 170 | 33 | 400 |   5965778 |\n",
       "| ⋮ | ⋮ | ⋮ | ⋮ | ⋮ | ⋮ | ⋮ | ⋮ | ⋮ | ⋮ |\n",
       "| 32 | 14 | 1755 | 32 | 1970 | 188 | 277 | 28 | 489 |      4416 |\n",
       "| 31 | 13 | 1770 | 43 | 1933 | 173 |  91 | 36 | 489 |   1843740 |\n",
       "| 32 | 13 | 1863 | 28 | 1999 | 188 | 101 | 21 | 293 |   6492427 |\n",
       "| 32 | 13 | 1748 | 37 | 1968 | 190 | 281 | 25 | 400 |   5647193 |\n",
       "| 32 | 15 | 2185 |  2 | 2500 | 190 | 128 |  1 |  12 |  61544007 |\n",
       "| 30 | 12 | 1839 | 26 | 1998 | 190 | 144 | 24 | 234 |   4810128 |\n",
       "| 35 | 15 | 1803 | 41 | 1951 | 178 | 176 | 38 | 357 |   3311462 |\n",
       "| 36 | 19 | 1945 |  7 | 2204 | 188 |  51 |  7 | 133 |  17353811 |\n",
       "| 38 | 22 | 2328 |  1 | 2550 | 185 |   3 |  1 |   1 | 129231891 |\n",
       "| 40 | 20 | 1806 | 16 | 2062 | 208 | 124 | 14 | 133 |   9845365 |\n",
       "| 36 | 17 | 1778 | 29 | 2009 | 188 | 160 | 23 | 293 |   8003533 |\n",
       "| 34 | 18 | 2108 |  5 | 2291 | 183 |  15 |  3 |  36 |  33790279 |\n",
       "| 34 | 13 | 1829 | 29 | 1982 | 196 | 177 | 26 | 400 |   4209879 |\n",
       "| 38 | 22 | 1944 | 16 | 2074 | 188 |  57 | 12 | 133 |  17114510 |\n",
       "| 38 | 13 | 1768 | 62 | 1895 | 183 | 116 | 33 | 489 |   4927689 |\n",
       "| 29 | 10 | 2093 |  8 | 2165 | 163 |  11 |  7 | 119 |  13578010 |\n",
       "| 30 | 10 | 1877 | 21 | 2042 | 188 |  75 | 21 | 293 |   5970907 |\n",
       "| 34 | 16 | 1818 | 44 | 1947 | 193 | 153 | 31 | 325 |   5349041 |\n",
       "| 33 | 17 | 2030 |  7 | 2189 | 193 |  10 |  6 |  83 |  17930816 |\n",
       "| 29 |  9 | 1960 | 29 | 2009 | 185 |  25 | 20 | 357 |   4292576 |\n",
       "| 33 | 18 | 1973 |  9 | 2196 | 185 |  60 |  7 |  85 |  18125457 |\n",
       "| 24 |  8 | 2083 | 10 | 2176 | 193 |  26 | 13 | 165 |   8001478 |\n",
       "| 34 | 14 | 2007 |  9 | 2148 | 206 |  19 |  8 |  71 |  18669906 |\n",
       "| 36 | 18 | 1939 | 14 | 2117 | 178 |  79 | 16 | 222 |  12807597 |\n",
       "| 29 | 11 | 1891 | 37 | 1962 | 193 | 138 | 25 | 357 |   5287905 |\n",
       "| 30 |  9 | 1841 | 45 | 1935 | 185 | 120 | 39 | 489 |   2562473 |\n",
       "| 34 | 16 | 1856 | 26 | 2004 | 180 |  46 | 19 | 222 |   8480383 |\n",
       "| 35 | 17 | 1894 |  9 | 2124 | 183 |  61 |  6 | 106 |  14773644 |\n",
       "| 29 | 12 | 2048 |  5 | 2269 | 196 |  35 |  3 |  68 |  18879855 |\n",
       "| 26 | 10 | 2188 |  5 | 2211 | 185 |   5 |  4 |  58 |  22132368 |\n",
       "\n"
      ],
      "text/plain": [
       "   Age Seasons Current.Elo.Rank Best.Elo.Rank Peak.Elo.Rating Height\n",
       "1  27  11      1826             21            2037            193   \n",
       "2  31  14      2211              3            2329            198   \n",
       "3  33  14      1791             29            2004            190   \n",
       "4  32  15      1993             18            2068            198   \n",
       "5  32  16      2004             14            2112            178   \n",
       "6  29  11      1892             35            1962            180   \n",
       "7  32  13      1860             44            1946            190   \n",
       "8  27  11      1845             38            1953            183   \n",
       "9  35  18      1879             21            2029            190   \n",
       "10 27   8      2025             18            2066            170   \n",
       "11 27  11      1985             29            2000            185   \n",
       "12 28   9      2002             21            2071            188   \n",
       "13 33  19      2406              1            2552            185   \n",
       "14 31  11      2080              9            2135            183   \n",
       "15 32  15      1965             23            2016            188   \n",
       "16 22   8      2096              5            2231            198   \n",
       "17 32  11      1946             25            2014            188   \n",
       "18 38  20      1886             35            1970            190   \n",
       "19 33  14      1850             15            2091            193   \n",
       "20 31  16      2037              6            2232            198   \n",
       "21 29  11      1811             72            1875            193   \n",
       "22 29  12      1793             41            1953            190   \n",
       "23 30  13      2114              4            2296            178   \n",
       "24 27  10      1830             32            1994            172   \n",
       "25 35  17      1786              9            2158            180   \n",
       "26 25   7      1975             20            2069            185   \n",
       "27 30  11      1965             25            2003            196   \n",
       "28 31  13      1926             29            2004            183   \n",
       "29 32  14      1900             41            1944            183   \n",
       "30 33  15      1769             31            1987            188   \n",
       "⋮  ⋮   ⋮       ⋮                ⋮             ⋮               ⋮     \n",
       "39 32  14      1755             32            1970            188   \n",
       "40 31  13      1770             43            1933            173   \n",
       "41 32  13      1863             28            1999            188   \n",
       "42 32  13      1748             37            1968            190   \n",
       "43 32  15      2185              2            2500            190   \n",
       "44 30  12      1839             26            1998            190   \n",
       "45 35  15      1803             41            1951            178   \n",
       "46 36  19      1945              7            2204            188   \n",
       "47 38  22      2328              1            2550            185   \n",
       "48 40  20      1806             16            2062            208   \n",
       "49 36  17      1778             29            2009            188   \n",
       "50 34  18      2108              5            2291            183   \n",
       "51 34  13      1829             29            1982            196   \n",
       "52 38  22      1944             16            2074            188   \n",
       "53 38  13      1768             62            1895            183   \n",
       "54 29  10      2093              8            2165            163   \n",
       "55 30  10      1877             21            2042            188   \n",
       "56 34  16      1818             44            1947            193   \n",
       "57 33  17      2030              7            2189            193   \n",
       "58 29   9      1960             29            2009            185   \n",
       "59 33  18      1973              9            2196            185   \n",
       "60 24   8      2083             10            2176            193   \n",
       "61 34  14      2007              9            2148            206   \n",
       "62 36  18      1939             14            2117            178   \n",
       "63 29  11      1891             37            1962            193   \n",
       "64 30   9      1841             45            1935            185   \n",
       "65 34  16      1856             26            2004            180   \n",
       "66 35  17      1894              9            2124            183   \n",
       "67 29  12      2048              5            2269            196   \n",
       "68 26  10      2188              5            2211            185   \n",
       "   Current.Rank Best.Rank GOAT.Rank Prize.Money\n",
       "1  183          17        264         6091971  \n",
       "2  121           3         33        25889586  \n",
       "3  130          19        264        10821168  \n",
       "4   45          11        157        11912152  \n",
       "5   12           9        151        13470614  \n",
       "6   27          23        357         4850190  \n",
       "7  161          33        357         7114496  \n",
       "8  304          40        489         4660132  \n",
       "9   85          18        293        10581476  \n",
       "10  14          11        222         7217264  \n",
       "11  41          26        400         3062847  \n",
       "12  30          10        202         8892564  \n",
       "13   1           1          3       119601561  \n",
       "14   9           9        151        12067808  \n",
       "15  58          25        357         8658443  \n",
       "16   7           3         65        20028563  \n",
       "17  42          17        293         7062030  \n",
       "18 191          37        325        10262279  \n",
       "19 159          12        264         8638698  \n",
       "20  39           3         53        27466016  \n",
       "21 152          56        489         2432075  \n",
       "22  76          33        325         3611278  \n",
       "23  18           4         49        23846631  \n",
       "24  92          23        357         3869834  \n",
       "25 211           8        183         8616024  \n",
       "26  24          10        169         7487708  \n",
       "27  21          18        293         7774890  \n",
       "28  44          22        400         6903920  \n",
       "29  68          39        489         4997728  \n",
       "30 170          33        400         5965778  \n",
       "⋮  ⋮            ⋮         ⋮         ⋮          \n",
       "39 277          28        489            4416  \n",
       "40  91          36        489         1843740  \n",
       "41 101          21        293         6492427  \n",
       "42 281          25        400         5647193  \n",
       "43 128           1         12        61544007  \n",
       "44 144          24        234         4810128  \n",
       "45 176          38        357         3311462  \n",
       "46  51           7        133        17353811  \n",
       "47   3           1          1       129231891  \n",
       "48 124          14        133         9845365  \n",
       "49 160          23        293         8003533  \n",
       "50  15           3         36        33790279  \n",
       "51 177          26        400         4209879  \n",
       "52  57          12        133        17114510  \n",
       "53 116          33        489         4927689  \n",
       "54  11           7        119        13578010  \n",
       "55  75          21        293         5970907  \n",
       "56 153          31        325         5349041  \n",
       "57  10           6         83        17930816  \n",
       "58  25          20        357         4292576  \n",
       "59  60           7         85        18125457  \n",
       "60  26          13        165         8001478  \n",
       "61  19           8         71        18669906  \n",
       "62  79          16        222        12807597  \n",
       "63 138          25        357         5287905  \n",
       "64 120          39        489         2562473  \n",
       "65  46          19        222         8480383  \n",
       "66  61           6        106        14773644  \n",
       "67  35           3         68        18879855  \n",
       "68   5           4         58        22132368  "
      ]
     },
     "metadata": {},
     "output_type": "display_data"
    },
    {
     "name": "stderr",
     "output_type": "stream",
     "text": [
      "Warning message:\n",
      "“The number of observations in each quantile is below the recommended threshold of 20.\n",
      "\u001b[36m•\u001b[39m Stratification will use 3 breaks instead.”\n"
     ]
    }
   ],
   "source": [
    "library(tidyverse)\n",
    "library(tidymodels)\n",
    "library(gridExtra)\n",
    "library(GGally)\n",
    "\n",
    "player_stats <- read_csv(\"data\")\n",
    "\n",
    "colnames(player_stats) <- make.names(colnames(player_stats), unique = TRUE)\n",
    "player_stats_tidy <- player_stats |> filter(Active == \"Yes\", Current.Elo.Rank != \"N/A\", Height != \"N/A\", GOAT.Rank != \"N/A\") |> \n",
    "                                     select(Age, Seasons, Current.Elo.Rank, Best.Elo.Rank, Peak.Elo.Rating, Height, Current.Rank, Best.Rank, GOAT.Rank, Prize.Money) |> \n",
    "                                     mutate(Age = as.numeric(substr(Age, 1,2)), \n",
    "                                            Current.Rank = as.numeric(gsub(\"\\\\(.*?\\\\)\", \"\", Current.Rank)),\n",
    "                                            Best.Rank = as.numeric(gsub(\"\\\\(.*?\\\\)\", \"\", Best.Rank)),\n",
    "                                            Height = as.numeric(gsub(\"cm\", \"\", Height)),\n",
    "                                            Peak.Elo.Rating = as.numeric(gsub(\"\\\\(.*?\\\\)\", \"\", Peak.Elo.Rating)),\n",
    "                                            GOAT.Rank = as.numeric(gsub(\"\\\\(.*?\\\\)\", \"\", GOAT.Rank)),\n",
    "                                            Best.Elo.Rank = as.numeric(gsub(\"\\\\(.*?\\\\)\", \"\", Best.Elo.Rank)),\n",
    "                                            Current.Elo.Rank = as.numeric(gsub(\"[\\\\(\\\\)]\", \"\", regmatches(Current.Elo.Rank, gregexpr(\"\\\\(.*?\\\\)\", Current.Elo.Rank)))),\n",
    "                                            Prize.Money = parse_number(Prize.Money))\n",
    "player_stats_tidy\n",
    "\n",
    "player_stats_split <- initial_split(player_stats_tidy, prop = 0.6, strata = Prize.Money)\n",
    "player_stats_train <- training(player_stats_split)\n",
    "player_stats_test <- testing(player_stats_split)"
   ]
  },
  {
   "cell_type": "markdown",
   "id": "e0adccfc",
   "metadata": {},
   "source": [
    ">> insert description of the training data table"
   ]
  },
  {
   "cell_type": "code",
   "execution_count": null,
   "id": "6bf34250",
   "metadata": {},
   "outputs": [],
   "source": [
    "player_stats_summary <- player_stats_tidy |> summarize"
   ]
  },
  {
   "cell_type": "markdown",
   "id": "58e24049",
   "metadata": {},
   "source": [
    ">> insert description of \"summary\" table"
   ]
  },
  {
   "cell_type": "code",
   "execution_count": 2,
   "id": "5e0264d3",
   "metadata": {},
   "outputs": [
    {
     "data": {
      "text/html": [
       "<style>\n",
       ".dl-inline {width: auto; margin:0; padding: 0}\n",
       ".dl-inline>dt, .dl-inline>dd {float: none; width: auto; display: inline-block}\n",
       ".dl-inline>dt::after {content: \":\\0020\"; padding-right: .5ex}\n",
       ".dl-inline>dt:not(:first-of-type) {padding-left: .5ex}\n",
       "</style><dl class=dl-inline><dt>Age</dt><dd>0.187676615171223</dd><dt>Seasons</dt><dd>0.420304695707455</dd><dt>Current.Elo.Rank</dt><dd>0.772163255557386</dd><dt>Best.Elo.Rank</dt><dd>-0.500190890406434</dd><dt>Peak.Elo.Rating</dt><dd>0.849093760713163</dd><dt>Height</dt><dd>0.0280120528872614</dd><dt>Current.Rank</dt><dd>-0.324298197514599</dd><dt>Best.Rank</dt><dd>-0.495117560879312</dd><dt>GOAT.Rank</dt><dd>-0.575072988424228</dd><dt>Prize.Money</dt><dd>1</dd></dl>\n"
      ],
      "text/latex": [
       "\\begin{description*}\n",
       "\\item[Age] 0.187676615171223\n",
       "\\item[Seasons] 0.420304695707455\n",
       "\\item[Current.Elo.Rank] 0.772163255557386\n",
       "\\item[Best.Elo.Rank] -0.500190890406434\n",
       "\\item[Peak.Elo.Rating] 0.849093760713163\n",
       "\\item[Height] 0.0280120528872614\n",
       "\\item[Current.Rank] -0.324298197514599\n",
       "\\item[Best.Rank] -0.495117560879312\n",
       "\\item[GOAT.Rank] -0.575072988424228\n",
       "\\item[Prize.Money] 1\n",
       "\\end{description*}\n"
      ],
      "text/markdown": [
       "Age\n",
       ":   0.187676615171223Seasons\n",
       ":   0.420304695707455Current.Elo.Rank\n",
       ":   0.772163255557386Best.Elo.Rank\n",
       ":   -0.500190890406434Peak.Elo.Rating\n",
       ":   0.849093760713163Height\n",
       ":   0.0280120528872614Current.Rank\n",
       ":   -0.324298197514599Best.Rank\n",
       ":   -0.495117560879312GOAT.Rank\n",
       ":   -0.575072988424228Prize.Money\n",
       ":   1\n",
       "\n"
      ],
      "text/plain": [
       "             Age          Seasons Current.Elo.Rank    Best.Elo.Rank \n",
       "      0.18767662       0.42030470       0.77216326      -0.50019089 \n",
       " Peak.Elo.Rating           Height     Current.Rank        Best.Rank \n",
       "      0.84909376       0.02801205      -0.32429820      -0.49511756 \n",
       "       GOAT.Rank      Prize.Money \n",
       "     -0.57507299       1.00000000 "
      ]
     },
     "metadata": {},
     "output_type": "display_data"
    }
   ],
   "source": [
    "player_cor <- cor(player_stats_tidy)\n",
    "player_cor[ , 10]"
   ]
  },
  {
   "cell_type": "markdown",
   "id": "3d940706",
   "metadata": {},
   "source": [
    ">> insert description of correlation "
   ]
  },
  {
   "cell_type": "code",
   "execution_count": 3,
   "id": "796b6c4f",
   "metadata": {},
   "outputs": [],
   "source": [
    "player_age_plot <- ggplot(player_stats_train, aes(x = Age, y = Prize.Money)) +\n",
    "  geom_point() +\n",
    "  xlab(\"Age of Player (years)\") +\n",
    "  ylab(\"Prize Money Won\") + \n",
    "  scale_y_continuous(labels = dollar_format()) +\n",
    "  theme(text = element_text(size = 12))\n",
    "\n",
    "player_age_plot"
   ]
  },
  {
   "cell_type": "markdown",
   "id": "eeebaf29",
   "metadata": {},
   "source": [
    ">> insert description of age plot"
   ]
  },
  {
   "cell_type": "code",
   "execution_count": 4,
   "id": "83861330",
   "metadata": {},
   "outputs": [],
   "source": [
    "player_seasons_plot <- ggplot(player_stats_train, aes(x = Seasons, y = Prize.Money)) +\n",
    "  geom_point() +\n",
    "  xlab(\"Total Seasons Played\") +\n",
    "  ylab(\"Prize Money Won\") + \n",
    "  scale_y_continuous(labels = dollar_format()) +\n",
    "  theme(text = element_text(size = 12))\n",
    "\n",
    "player_seasons_plot"
   ]
  },
  {
   "cell_type": "markdown",
   "id": "1fea75ab",
   "metadata": {},
   "source": [
    ">> insert description of seasons plot"
   ]
  },
  {
   "cell_type": "code",
   "execution_count": 5,
   "id": "89f8c49f",
   "metadata": {},
   "outputs": [],
   "source": [
    "player_current_elo_plot <- ggplot(player_stats_train, aes(x = Current.Elo.Rank, y = Prize.Money)) +\n",
    "  geom_point() +\n",
    "  xlab(\"Current Elo of Player\") +\n",
    "  ylab(\"Prize Money Won\") + \n",
    "  scale_y_continuous(labels = dollar_format()) +\n",
    "  scale_x_discrete(breaks = seq(from = 0, to = 2406, by = 20)) +\n",
    "  theme(text = element_text(size = 10)) + theme(axis.text.x = element_text(angle = 90, hjust = 1))\n",
    "\n",
    "player_current_elo_plot"
   ]
  },
  {
   "cell_type": "markdown",
   "id": "c16699ca",
   "metadata": {},
   "source": [
    ">> insert description of current elo plot"
   ]
  },
  {
   "cell_type": "code",
   "execution_count": 6,
   "id": "7b465a92",
   "metadata": {},
   "outputs": [],
   "source": [
    "player_best_elo_plot <- ggplot(player_stats_train, aes(x = Best.Elo.Rank, y = Prize.Money)) +\n",
    "  geom_point() +\n",
    "  xlab(\"Best Elo of Player\") +\n",
    "  ylab(\"Prize Money Won\") + \n",
    "  scale_y_continuous(labels = dollar_format()) +\n",
    "  scale_x_discrete(breaks = seq(from = 0, to = 2406, by = 20)) +\n",
    "  theme(text = element_text(size = 10)) + theme(axis.text.x = element_text(angle = 90, hjust = 1))\n",
    "\n",
    "player_best_elo_plot"
   ]
  },
  {
   "cell_type": "markdown",
   "id": "287a2eeb",
   "metadata": {},
   "source": [
    ">> insert description of best elo plot"
   ]
  },
  {
   "cell_type": "code",
   "execution_count": 7,
   "id": "cb82d3b9",
   "metadata": {},
   "outputs": [],
   "source": [
    "player_peak_elo_plot <- ggplot(player_stats_train, aes(x = Peak.Elo.Rating, y = Prize.Money)) +\n",
    "  geom_point() +\n",
    "  xlab(\"Peak Elo of Player\") +\n",
    "  ylab(\"Prize Money Won\") + \n",
    "  scale_y_continuous(labels = dollar_format()) +\n",
    "  scale_x_discrete(breaks = seq(from = 0, to = 2406, by = 20)) +\n",
    "  theme(text = element_text(size = 10)) + theme(axis.text.x = element_text(angle = 90, hjust = 1))\n",
    "\n",
    "player_peak_elo_plot"
   ]
  },
  {
   "cell_type": "markdown",
   "id": "ce711ca7",
   "metadata": {},
   "source": [
    ">> insert description of peak elo plot"
   ]
  },
  {
   "cell_type": "code",
   "execution_count": 8,
   "id": "408f8180",
   "metadata": {},
   "outputs": [],
   "source": [
    "player_height_plot <- ggplot(player_stats_train, aes(x = Height, y = Prize.Money)) +\n",
    "  geom_point() +\n",
    "  xlab(\"Height of Player\") +\n",
    "  ylab(\"Prize Money Won\") + \n",
    "  scale_y_continuous(labels = dollar_format()) +\n",
    "  theme(text = element_text(size = 12))\n",
    "\n",
    "player_height_plot"
   ]
  },
  {
   "cell_type": "markdown",
   "id": "b951db76",
   "metadata": {},
   "source": [
    ">> insert description of height plot"
   ]
  },
  {
   "cell_type": "code",
   "execution_count": 9,
   "id": "4ff66048",
   "metadata": {},
   "outputs": [],
   "source": [
    "player_current_rank_plot <- ggplot(player_stats_train, aes(x = Current.Rank, y = Prize.Money)) +\n",
    "  geom_point() +\n",
    "  xlab(\"Current Rank of Player\") +\n",
    "  ylab(\"Prize Money Won\") + \n",
    "  scale_y_continuous(labels = dollar_format()) +\n",
    "  theme(text = element_text(size = 12))\n",
    "\n",
    "player_current_rank_plot"
   ]
  },
  {
   "cell_type": "markdown",
   "id": "132821da",
   "metadata": {},
   "source": [
    ">> insert description of current rank plot"
   ]
  },
  {
   "cell_type": "code",
   "execution_count": 10,
   "id": "9186d3a2",
   "metadata": {},
   "outputs": [],
   "source": [
    "player_best_rank_plot <- ggplot(player_stats_train, aes(x = Best.Rank, y = Prize.Money)) +\n",
    "  geom_point() +\n",
    "  xlab(\"Best Rank of Player\") +\n",
    "  ylab(\"Prize Money Won\") + \n",
    "  scale_y_continuous(labels = dollar_format()) +\n",
    "  theme(text = element_text(size = 12))\n",
    "\n",
    "player_best_rank_plot"
   ]
  },
  {
   "cell_type": "markdown",
   "id": "0b37541a",
   "metadata": {},
   "source": [
    ">> insert description of best rank plot"
   ]
  },
  {
   "cell_type": "code",
   "execution_count": 11,
   "id": "8621359a",
   "metadata": {},
   "outputs": [],
   "source": [
    "player_goat_rank_plot <- ggplot(player_stats_train, aes(x = GOAT.Rank, y = Prize.Money)) +\n",
    "  geom_point() +\n",
    "  xlab(\"GOAT Rank of Player\") +\n",
    "  ylab(\"Prize Money Won\") + \n",
    "  scale_y_continuous(labels = dollar_format()) +\n",
    "  theme(text = element_text(size = 12))\n",
    "\n",
    "player_goat_rank_plot"
   ]
  },
  {
   "cell_type": "markdown",
   "id": "398aafb9",
   "metadata": {},
   "source": [
    ">> insert description of goat rank plot"
   ]
  },
  {
   "cell_type": "code",
   "execution_count": 12,
   "id": "678b3249",
   "metadata": {},
   "outputs": [
    {
     "data": {
      "text/plain": [
       "══ Workflow [trained] ══════════════════════════════════════════════════════════\n",
       "\u001b[3mPreprocessor:\u001b[23m Recipe\n",
       "\u001b[3mModel:\u001b[23m linear_reg()\n",
       "\n",
       "── Preprocessor ────────────────────────────────────────────────────────────────\n",
       "0 Recipe Steps\n",
       "\n",
       "── Model ───────────────────────────────────────────────────────────────────────\n",
       "\n",
       "Call:\n",
       "stats::lm(formula = ..y ~ ., data = data)\n",
       "\n",
       "Coefficients:\n",
       "     (Intercept)               Age           Seasons  Current.Elo.Rank  \n",
       "      -587327775             97075           1888178             36603  \n",
       "   Best.Elo.Rank   Peak.Elo.Rating            Height      Current.Rank  \n",
       "          960649            217340             88115            -21976  \n",
       "       Best.Rank         GOAT.Rank  \n",
       "         -288366             71914  \n"
      ]
     },
     "metadata": {},
     "output_type": "display_data"
    },
    {
     "data": {
      "text/html": [
       "8543565.98887622"
      ],
      "text/latex": [
       "8543565.98887622"
      ],
      "text/markdown": [
       "8543565.98887622"
      ],
      "text/plain": [
       "[1] 8543566"
      ]
     },
     "metadata": {},
     "output_type": "display_data"
    },
    {
     "data": {
      "text/html": [
       "8449081.53946098"
      ],
      "text/latex": [
       "8449081.53946098"
      ],
      "text/markdown": [
       "8449081.53946098"
      ],
      "text/plain": [
       "[1] 8449082"
      ]
     },
     "metadata": {},
     "output_type": "display_data"
    },
    {
     "data": {
      "text/plain": [
       "══ Workflow [trained] ══════════════════════════════════════════════════════════\n",
       "\u001b[3mPreprocessor:\u001b[23m Recipe\n",
       "\u001b[3mModel:\u001b[23m linear_reg()\n",
       "\n",
       "── Preprocessor ────────────────────────────────────────────────────────────────\n",
       "0 Recipe Steps\n",
       "\n",
       "── Model ───────────────────────────────────────────────────────────────────────\n",
       "\n",
       "Call:\n",
       "stats::lm(formula = ..y ~ ., data = data)\n",
       "\n",
       "Coefficients:\n",
       "     (Intercept)           Seasons  Current.Elo.Rank   Peak.Elo.Rating  \n",
       "      -527527356           1671770             22853            214285  \n",
       "    Current.Rank         Best.Rank         GOAT.Rank  \n",
       "          -43560            737832             75349  \n"
      ]
     },
     "metadata": {},
     "output_type": "display_data"
    },
    {
     "data": {
      "text/html": [
       "10016869.4249405"
      ],
      "text/latex": [
       "10016869.4249405"
      ],
      "text/markdown": [
       "10016869.4249405"
      ],
      "text/plain": [
       "[1] 10016869"
      ]
     },
     "metadata": {},
     "output_type": "display_data"
    },
    {
     "data": {
      "text/html": [
       "9135173.56381274"
      ],
      "text/latex": [
       "9135173.56381274"
      ],
      "text/markdown": [
       "9135173.56381274"
      ],
      "text/plain": [
       "[1] 9135174"
      ]
     },
     "metadata": {},
     "output_type": "display_data"
    }
   ],
   "source": [
    "lm_spec <- linear_reg() |> set_engine(\"lm\") |> set_mode(\"regression\")\n",
    "\n",
    "tennis_recipe_all <- recipe(\n",
    "    Prize.Money ~ ., data = player_stats_train)\n",
    "\n",
    "tennis_fit_all <- workflow() |> add_recipe(tennis_recipe_all) |>\n",
    "                            add_model(lm_spec) |> \n",
    "                            fit(player_stats_train)\n",
    "tennis_fit_all\n",
    "\n",
    "lm_rmse_all <- tennis_fit_all |> predict(player_stats_train) |>\n",
    "                         bind_cols(player_stats_train) |>\n",
    "                         metrics(truth = Prize.Money, estimate = .pred) |> \n",
    "                         filter(.metric == \"rmse\") |>\n",
    "                         select(.estimate) |>\n",
    "                         pull()\n",
    "lm_rmse_all\n",
    "\n",
    "lm_rmspe_all <- tennis_fit_all |> predict(player_stats_test) |>\n",
    "                          bind_cols(player_stats_test) |> \n",
    "                          metrics(truth = Prize.Money, estimate = .pred) |> \n",
    "                          filter(.metric == \"rmse\") |>\n",
    "                          select(.estimate) |> \n",
    "                          pull()\n",
    "\n",
    "lm_rmspe_all\n",
    "\n",
    "tennis_recipe_best <- recipe(\n",
    "    Prize.Money ~ Seasons + Current.Elo.Rank + Peak.Elo.Rating + Current.Rank + Best.Rank + GOAT.Rank, \n",
    "    data = player_stats_train)\n",
    "\n",
    "tennis_fit_best <- workflow() |> add_recipe(tennis_recipe_best) |>\n",
    "                            add_model(lm_spec) |> \n",
    "                            fit(player_stats_train)\n",
    "\n",
    "tennis_fit_best\n",
    "\n",
    "lm_rmse_best <- tennis_fit_best |> predict(player_stats_train) |>\n",
    "                         bind_cols(player_stats_train) |>\n",
    "                         metrics(truth = Prize.Money, estimate = .pred) |> \n",
    "                         filter(.metric == \"rmse\") |>\n",
    "                         select(.estimate) |>\n",
    "                         pull()\n",
    "lm_rmse_best\n",
    "\n",
    "lm_rmspe_best <- tennis_fit_best |> predict(player_stats_test) |>\n",
    "                          bind_cols(player_stats_test) |> \n",
    "                          metrics(truth = Prize.Money, estimate = .pred) |> \n",
    "                          filter(.metric == \"rmse\") |>\n",
    "                          select(.estimate) |> \n",
    "                          pull()\n",
    "lm_rmspe_best"
   ]
  },
  {
   "cell_type": "code",
   "execution_count": 1,
   "id": "061ad3ed",
   "metadata": {},
   "outputs": [
    {
     "name": "stderr",
     "output_type": "stream",
     "text": [
      "── \u001b[1mAttaching packages\u001b[22m ─────────────────────────────────────── tidyverse 1.3.1 ──\n",
      "\n",
      "\u001b[32m✔\u001b[39m \u001b[34mggplot2\u001b[39m 3.3.6     \u001b[32m✔\u001b[39m \u001b[34mpurrr  \u001b[39m 0.3.4\n",
      "\u001b[32m✔\u001b[39m \u001b[34mtibble \u001b[39m 3.1.7     \u001b[32m✔\u001b[39m \u001b[34mdplyr  \u001b[39m 1.0.9\n",
      "\u001b[32m✔\u001b[39m \u001b[34mtidyr  \u001b[39m 1.2.0     \u001b[32m✔\u001b[39m \u001b[34mstringr\u001b[39m 1.4.0\n",
      "\u001b[32m✔\u001b[39m \u001b[34mreadr  \u001b[39m 2.1.2     \u001b[32m✔\u001b[39m \u001b[34mforcats\u001b[39m 0.5.1\n",
      "\n",
      "── \u001b[1mConflicts\u001b[22m ────────────────────────────────────────── tidyverse_conflicts() ──\n",
      "\u001b[31m✖\u001b[39m \u001b[34mdplyr\u001b[39m::\u001b[32mfilter()\u001b[39m masks \u001b[34mstats\u001b[39m::filter()\n",
      "\u001b[31m✖\u001b[39m \u001b[34mdplyr\u001b[39m::\u001b[32mlag()\u001b[39m    masks \u001b[34mstats\u001b[39m::lag()\n",
      "\n",
      "── \u001b[1mAttaching packages\u001b[22m ────────────────────────────────────── tidymodels 1.0.0 ──\n",
      "\n",
      "\u001b[32m✔\u001b[39m \u001b[34mbroom       \u001b[39m 1.0.0     \u001b[32m✔\u001b[39m \u001b[34mrsample     \u001b[39m 1.0.0\n",
      "\u001b[32m✔\u001b[39m \u001b[34mdials       \u001b[39m 1.0.0     \u001b[32m✔\u001b[39m \u001b[34mtune        \u001b[39m 1.0.0\n",
      "\u001b[32m✔\u001b[39m \u001b[34minfer       \u001b[39m 1.0.2     \u001b[32m✔\u001b[39m \u001b[34mworkflows   \u001b[39m 1.0.0\n",
      "\u001b[32m✔\u001b[39m \u001b[34mmodeldata   \u001b[39m 1.0.0     \u001b[32m✔\u001b[39m \u001b[34mworkflowsets\u001b[39m 1.0.0\n",
      "\u001b[32m✔\u001b[39m \u001b[34mparsnip     \u001b[39m 1.0.0     \u001b[32m✔\u001b[39m \u001b[34myardstick   \u001b[39m 1.0.0\n",
      "\u001b[32m✔\u001b[39m \u001b[34mrecipes     \u001b[39m 1.0.1     \n",
      "\n",
      "── \u001b[1mConflicts\u001b[22m ───────────────────────────────────────── tidymodels_conflicts() ──\n",
      "\u001b[31m✖\u001b[39m \u001b[34mscales\u001b[39m::\u001b[32mdiscard()\u001b[39m masks \u001b[34mpurrr\u001b[39m::discard()\n",
      "\u001b[31m✖\u001b[39m \u001b[34mdplyr\u001b[39m::\u001b[32mfilter()\u001b[39m   masks \u001b[34mstats\u001b[39m::filter()\n",
      "\u001b[31m✖\u001b[39m \u001b[34mrecipes\u001b[39m::\u001b[32mfixed()\u001b[39m  masks \u001b[34mstringr\u001b[39m::fixed()\n",
      "\u001b[31m✖\u001b[39m \u001b[34mdplyr\u001b[39m::\u001b[32mlag()\u001b[39m      masks \u001b[34mstats\u001b[39m::lag()\n",
      "\u001b[31m✖\u001b[39m \u001b[34myardstick\u001b[39m::\u001b[32mspec()\u001b[39m masks \u001b[34mreadr\u001b[39m::spec()\n",
      "\u001b[31m✖\u001b[39m \u001b[34mrecipes\u001b[39m::\u001b[32mstep()\u001b[39m   masks \u001b[34mstats\u001b[39m::step()\n",
      "\u001b[34m•\u001b[39m Use \u001b[32mtidymodels_prefer()\u001b[39m to resolve common conflicts.\n",
      "\n",
      "\n",
      "Attaching package: ‘gridExtra’\n",
      "\n",
      "\n",
      "The following object is masked from ‘package:dplyr’:\n",
      "\n",
      "    combine\n",
      "\n",
      "\n",
      "Registered S3 method overwritten by 'GGally':\n",
      "  method from   \n",
      "  +.gg   ggplot2\n",
      "\n"
     ]
    }
   ],
   "source": [
    "library(tidyverse)\n",
    "library(tidymodels)\n",
    "library(gridExtra)\n",
    "library(GGally)"
   ]
  },
  {
   "cell_type": "code",
   "execution_count": 2,
   "id": "e0142630",
   "metadata": {},
   "outputs": [
    {
     "name": "stderr",
     "output_type": "stream",
     "text": [
      "\u001b[1m\u001b[22mNew names:\n",
      "\u001b[36m•\u001b[39m `` -> `...1`\n",
      "\u001b[1mRows: \u001b[22m\u001b[34m500\u001b[39m \u001b[1mColumns: \u001b[22m\u001b[34m38\u001b[39m\n",
      "\u001b[36m──\u001b[39m \u001b[1mColumn specification\u001b[22m \u001b[36m────────────────────────────────────────────────────────\u001b[39m\n",
      "\u001b[1mDelimiter:\u001b[22m \",\"\n",
      "\u001b[31mchr\u001b[39m (25): Age, Country, Plays, Wikipedia, Current Rank, Best Rank, Name, Bac...\n",
      "\u001b[32mdbl\u001b[39m (13): ...1, Turned Pro, Seasons, Titles, Best Season, Retired, Masters, ...\n",
      "\n",
      "\u001b[36mℹ\u001b[39m Use `spec()` to retrieve the full column specification for this data.\n",
      "\u001b[36mℹ\u001b[39m Specify the column types or set `show_col_types = FALSE` to quiet this message.\n"
     ]
    }
   ],
   "source": [
    "player_stats <- read_csv(\"data\")"
   ]
  },
  {
   "cell_type": "code",
   "execution_count": 3,
   "id": "ef9f25a1",
   "metadata": {},
   "outputs": [
    {
     "data": {
      "text/html": [
       "<table class=\"dataframe\">\n",
       "<caption>A tibble: 68 × 10</caption>\n",
       "<thead>\n",
       "\t<tr><th scope=col>Age</th><th scope=col>Seasons</th><th scope=col>Current.Elo.Rank</th><th scope=col>Best.Elo.Rank</th><th scope=col>Peak.Elo.Rating</th><th scope=col>Height</th><th scope=col>Current.Rank</th><th scope=col>Best.Rank</th><th scope=col>GOAT.Rank</th><th scope=col>Prize.Money</th></tr>\n",
       "\t<tr><th scope=col>&lt;dbl&gt;</th><th scope=col>&lt;dbl&gt;</th><th scope=col>&lt;dbl&gt;</th><th scope=col>&lt;dbl&gt;</th><th scope=col>&lt;dbl&gt;</th><th scope=col>&lt;dbl&gt;</th><th scope=col>&lt;dbl&gt;</th><th scope=col>&lt;dbl&gt;</th><th scope=col>&lt;dbl&gt;</th><th scope=col>&lt;dbl&gt;</th></tr>\n",
       "</thead>\n",
       "<tbody>\n",
       "\t<tr><td>27</td><td>11</td><td>1826</td><td>21</td><td>2037</td><td>193</td><td>183</td><td>17</td><td>264</td><td>  6091971</td></tr>\n",
       "\t<tr><td>31</td><td>14</td><td>2211</td><td> 3</td><td>2329</td><td>198</td><td>121</td><td> 3</td><td> 33</td><td> 25889586</td></tr>\n",
       "\t<tr><td>33</td><td>14</td><td>1791</td><td>29</td><td>2004</td><td>190</td><td>130</td><td>19</td><td>264</td><td> 10821168</td></tr>\n",
       "\t<tr><td>32</td><td>15</td><td>1993</td><td>18</td><td>2068</td><td>198</td><td> 45</td><td>11</td><td>157</td><td> 11912152</td></tr>\n",
       "\t<tr><td>32</td><td>16</td><td>2004</td><td>14</td><td>2112</td><td>178</td><td> 12</td><td> 9</td><td>151</td><td> 13470614</td></tr>\n",
       "\t<tr><td>29</td><td>11</td><td>1892</td><td>35</td><td>1962</td><td>180</td><td> 27</td><td>23</td><td>357</td><td>  4850190</td></tr>\n",
       "\t<tr><td>32</td><td>13</td><td>1860</td><td>44</td><td>1946</td><td>190</td><td>161</td><td>33</td><td>357</td><td>  7114496</td></tr>\n",
       "\t<tr><td>27</td><td>11</td><td>1845</td><td>38</td><td>1953</td><td>183</td><td>304</td><td>40</td><td>489</td><td>  4660132</td></tr>\n",
       "\t<tr><td>35</td><td>18</td><td>1879</td><td>21</td><td>2029</td><td>190</td><td> 85</td><td>18</td><td>293</td><td> 10581476</td></tr>\n",
       "\t<tr><td>27</td><td> 8</td><td>2025</td><td>18</td><td>2066</td><td>170</td><td> 14</td><td>11</td><td>222</td><td>  7217264</td></tr>\n",
       "\t<tr><td>27</td><td>11</td><td>1985</td><td>29</td><td>2000</td><td>185</td><td> 41</td><td>26</td><td>400</td><td>  3062847</td></tr>\n",
       "\t<tr><td>28</td><td> 9</td><td>2002</td><td>21</td><td>2071</td><td>188</td><td> 30</td><td>10</td><td>202</td><td>  8892564</td></tr>\n",
       "\t<tr><td>33</td><td>19</td><td>2406</td><td> 1</td><td>2552</td><td>185</td><td>  1</td><td> 1</td><td>  3</td><td>119601561</td></tr>\n",
       "\t<tr><td>31</td><td>11</td><td>2080</td><td> 9</td><td>2135</td><td>183</td><td>  9</td><td> 9</td><td>151</td><td> 12067808</td></tr>\n",
       "\t<tr><td>32</td><td>15</td><td>1965</td><td>23</td><td>2016</td><td>188</td><td> 58</td><td>25</td><td>357</td><td>  8658443</td></tr>\n",
       "\t<tr><td>22</td><td> 8</td><td>2096</td><td> 5</td><td>2231</td><td>198</td><td>  7</td><td> 3</td><td> 65</td><td> 20028563</td></tr>\n",
       "\t<tr><td>32</td><td>11</td><td>1946</td><td>25</td><td>2014</td><td>188</td><td> 42</td><td>17</td><td>293</td><td>  7062030</td></tr>\n",
       "\t<tr><td>38</td><td>20</td><td>1886</td><td>35</td><td>1970</td><td>190</td><td>191</td><td>37</td><td>325</td><td> 10262279</td></tr>\n",
       "\t<tr><td>33</td><td>14</td><td>1850</td><td>15</td><td>2091</td><td>193</td><td>159</td><td>12</td><td>264</td><td>  8638698</td></tr>\n",
       "\t<tr><td>31</td><td>16</td><td>2037</td><td> 6</td><td>2232</td><td>198</td><td> 39</td><td> 3</td><td> 53</td><td> 27466016</td></tr>\n",
       "\t<tr><td>29</td><td>11</td><td>1811</td><td>72</td><td>1875</td><td>193</td><td>152</td><td>56</td><td>489</td><td>  2432075</td></tr>\n",
       "\t<tr><td>29</td><td>12</td><td>1793</td><td>41</td><td>1953</td><td>190</td><td> 76</td><td>33</td><td>325</td><td>  3611278</td></tr>\n",
       "\t<tr><td>30</td><td>13</td><td>2114</td><td> 4</td><td>2296</td><td>178</td><td> 18</td><td> 4</td><td> 49</td><td> 23846631</td></tr>\n",
       "\t<tr><td>27</td><td>10</td><td>1830</td><td>32</td><td>1994</td><td>172</td><td> 92</td><td>23</td><td>357</td><td>  3869834</td></tr>\n",
       "\t<tr><td>35</td><td>17</td><td>1786</td><td> 9</td><td>2158</td><td>180</td><td>211</td><td> 8</td><td>183</td><td>  8616024</td></tr>\n",
       "\t<tr><td>25</td><td> 7</td><td>1975</td><td>20</td><td>2069</td><td>185</td><td> 24</td><td>10</td><td>169</td><td>  7487708</td></tr>\n",
       "\t<tr><td>30</td><td>11</td><td>1965</td><td>25</td><td>2003</td><td>196</td><td> 21</td><td>18</td><td>293</td><td>  7774890</td></tr>\n",
       "\t<tr><td>31</td><td>13</td><td>1926</td><td>29</td><td>2004</td><td>183</td><td> 44</td><td>22</td><td>400</td><td>  6903920</td></tr>\n",
       "\t<tr><td>32</td><td>14</td><td>1900</td><td>41</td><td>1944</td><td>183</td><td> 68</td><td>39</td><td>489</td><td>  4997728</td></tr>\n",
       "\t<tr><td>33</td><td>15</td><td>1769</td><td>31</td><td>1987</td><td>188</td><td>170</td><td>33</td><td>400</td><td>  5965778</td></tr>\n",
       "\t<tr><td>⋮</td><td>⋮</td><td>⋮</td><td>⋮</td><td>⋮</td><td>⋮</td><td>⋮</td><td>⋮</td><td>⋮</td><td>⋮</td></tr>\n",
       "\t<tr><td>32</td><td>14</td><td>1755</td><td>32</td><td>1970</td><td>188</td><td>277</td><td>28</td><td>489</td><td>     4416</td></tr>\n",
       "\t<tr><td>31</td><td>13</td><td>1770</td><td>43</td><td>1933</td><td>173</td><td> 91</td><td>36</td><td>489</td><td>  1843740</td></tr>\n",
       "\t<tr><td>32</td><td>13</td><td>1863</td><td>28</td><td>1999</td><td>188</td><td>101</td><td>21</td><td>293</td><td>  6492427</td></tr>\n",
       "\t<tr><td>32</td><td>13</td><td>1748</td><td>37</td><td>1968</td><td>190</td><td>281</td><td>25</td><td>400</td><td>  5647193</td></tr>\n",
       "\t<tr><td>32</td><td>15</td><td>2185</td><td> 2</td><td>2500</td><td>190</td><td>128</td><td> 1</td><td> 12</td><td> 61544007</td></tr>\n",
       "\t<tr><td>30</td><td>12</td><td>1839</td><td>26</td><td>1998</td><td>190</td><td>144</td><td>24</td><td>234</td><td>  4810128</td></tr>\n",
       "\t<tr><td>35</td><td>15</td><td>1803</td><td>41</td><td>1951</td><td>178</td><td>176</td><td>38</td><td>357</td><td>  3311462</td></tr>\n",
       "\t<tr><td>36</td><td>19</td><td>1945</td><td> 7</td><td>2204</td><td>188</td><td> 51</td><td> 7</td><td>133</td><td> 17353811</td></tr>\n",
       "\t<tr><td>38</td><td>22</td><td>2328</td><td> 1</td><td>2550</td><td>185</td><td>  3</td><td> 1</td><td>  1</td><td>129231891</td></tr>\n",
       "\t<tr><td>40</td><td>20</td><td>1806</td><td>16</td><td>2062</td><td>208</td><td>124</td><td>14</td><td>133</td><td>  9845365</td></tr>\n",
       "\t<tr><td>36</td><td>17</td><td>1778</td><td>29</td><td>2009</td><td>188</td><td>160</td><td>23</td><td>293</td><td>  8003533</td></tr>\n",
       "\t<tr><td>34</td><td>18</td><td>2108</td><td> 5</td><td>2291</td><td>183</td><td> 15</td><td> 3</td><td> 36</td><td> 33790279</td></tr>\n",
       "\t<tr><td>34</td><td>13</td><td>1829</td><td>29</td><td>1982</td><td>196</td><td>177</td><td>26</td><td>400</td><td>  4209879</td></tr>\n",
       "\t<tr><td>38</td><td>22</td><td>1944</td><td>16</td><td>2074</td><td>188</td><td> 57</td><td>12</td><td>133</td><td> 17114510</td></tr>\n",
       "\t<tr><td>38</td><td>13</td><td>1768</td><td>62</td><td>1895</td><td>183</td><td>116</td><td>33</td><td>489</td><td>  4927689</td></tr>\n",
       "\t<tr><td>29</td><td>10</td><td>2093</td><td> 8</td><td>2165</td><td>163</td><td> 11</td><td> 7</td><td>119</td><td> 13578010</td></tr>\n",
       "\t<tr><td>30</td><td>10</td><td>1877</td><td>21</td><td>2042</td><td>188</td><td> 75</td><td>21</td><td>293</td><td>  5970907</td></tr>\n",
       "\t<tr><td>34</td><td>16</td><td>1818</td><td>44</td><td>1947</td><td>193</td><td>153</td><td>31</td><td>325</td><td>  5349041</td></tr>\n",
       "\t<tr><td>33</td><td>17</td><td>2030</td><td> 7</td><td>2189</td><td>193</td><td> 10</td><td> 6</td><td> 83</td><td> 17930816</td></tr>\n",
       "\t<tr><td>29</td><td> 9</td><td>1960</td><td>29</td><td>2009</td><td>185</td><td> 25</td><td>20</td><td>357</td><td>  4292576</td></tr>\n",
       "\t<tr><td>33</td><td>18</td><td>1973</td><td> 9</td><td>2196</td><td>185</td><td> 60</td><td> 7</td><td> 85</td><td> 18125457</td></tr>\n",
       "\t<tr><td>24</td><td> 8</td><td>2083</td><td>10</td><td>2176</td><td>193</td><td> 26</td><td>13</td><td>165</td><td>  8001478</td></tr>\n",
       "\t<tr><td>34</td><td>14</td><td>2007</td><td> 9</td><td>2148</td><td>206</td><td> 19</td><td> 8</td><td> 71</td><td> 18669906</td></tr>\n",
       "\t<tr><td>36</td><td>18</td><td>1939</td><td>14</td><td>2117</td><td>178</td><td> 79</td><td>16</td><td>222</td><td> 12807597</td></tr>\n",
       "\t<tr><td>29</td><td>11</td><td>1891</td><td>37</td><td>1962</td><td>193</td><td>138</td><td>25</td><td>357</td><td>  5287905</td></tr>\n",
       "\t<tr><td>30</td><td> 9</td><td>1841</td><td>45</td><td>1935</td><td>185</td><td>120</td><td>39</td><td>489</td><td>  2562473</td></tr>\n",
       "\t<tr><td>34</td><td>16</td><td>1856</td><td>26</td><td>2004</td><td>180</td><td> 46</td><td>19</td><td>222</td><td>  8480383</td></tr>\n",
       "\t<tr><td>35</td><td>17</td><td>1894</td><td> 9</td><td>2124</td><td>183</td><td> 61</td><td> 6</td><td>106</td><td> 14773644</td></tr>\n",
       "\t<tr><td>29</td><td>12</td><td>2048</td><td> 5</td><td>2269</td><td>196</td><td> 35</td><td> 3</td><td> 68</td><td> 18879855</td></tr>\n",
       "\t<tr><td>26</td><td>10</td><td>2188</td><td> 5</td><td>2211</td><td>185</td><td>  5</td><td> 4</td><td> 58</td><td> 22132368</td></tr>\n",
       "</tbody>\n",
       "</table>\n"
      ],
      "text/latex": [
       "A tibble: 68 × 10\n",
       "\\begin{tabular}{llllllllll}\n",
       " Age & Seasons & Current.Elo.Rank & Best.Elo.Rank & Peak.Elo.Rating & Height & Current.Rank & Best.Rank & GOAT.Rank & Prize.Money\\\\\n",
       " <dbl> & <dbl> & <dbl> & <dbl> & <dbl> & <dbl> & <dbl> & <dbl> & <dbl> & <dbl>\\\\\n",
       "\\hline\n",
       "\t 27 & 11 & 1826 & 21 & 2037 & 193 & 183 & 17 & 264 &   6091971\\\\\n",
       "\t 31 & 14 & 2211 &  3 & 2329 & 198 & 121 &  3 &  33 &  25889586\\\\\n",
       "\t 33 & 14 & 1791 & 29 & 2004 & 190 & 130 & 19 & 264 &  10821168\\\\\n",
       "\t 32 & 15 & 1993 & 18 & 2068 & 198 &  45 & 11 & 157 &  11912152\\\\\n",
       "\t 32 & 16 & 2004 & 14 & 2112 & 178 &  12 &  9 & 151 &  13470614\\\\\n",
       "\t 29 & 11 & 1892 & 35 & 1962 & 180 &  27 & 23 & 357 &   4850190\\\\\n",
       "\t 32 & 13 & 1860 & 44 & 1946 & 190 & 161 & 33 & 357 &   7114496\\\\\n",
       "\t 27 & 11 & 1845 & 38 & 1953 & 183 & 304 & 40 & 489 &   4660132\\\\\n",
       "\t 35 & 18 & 1879 & 21 & 2029 & 190 &  85 & 18 & 293 &  10581476\\\\\n",
       "\t 27 &  8 & 2025 & 18 & 2066 & 170 &  14 & 11 & 222 &   7217264\\\\\n",
       "\t 27 & 11 & 1985 & 29 & 2000 & 185 &  41 & 26 & 400 &   3062847\\\\\n",
       "\t 28 &  9 & 2002 & 21 & 2071 & 188 &  30 & 10 & 202 &   8892564\\\\\n",
       "\t 33 & 19 & 2406 &  1 & 2552 & 185 &   1 &  1 &   3 & 119601561\\\\\n",
       "\t 31 & 11 & 2080 &  9 & 2135 & 183 &   9 &  9 & 151 &  12067808\\\\\n",
       "\t 32 & 15 & 1965 & 23 & 2016 & 188 &  58 & 25 & 357 &   8658443\\\\\n",
       "\t 22 &  8 & 2096 &  5 & 2231 & 198 &   7 &  3 &  65 &  20028563\\\\\n",
       "\t 32 & 11 & 1946 & 25 & 2014 & 188 &  42 & 17 & 293 &   7062030\\\\\n",
       "\t 38 & 20 & 1886 & 35 & 1970 & 190 & 191 & 37 & 325 &  10262279\\\\\n",
       "\t 33 & 14 & 1850 & 15 & 2091 & 193 & 159 & 12 & 264 &   8638698\\\\\n",
       "\t 31 & 16 & 2037 &  6 & 2232 & 198 &  39 &  3 &  53 &  27466016\\\\\n",
       "\t 29 & 11 & 1811 & 72 & 1875 & 193 & 152 & 56 & 489 &   2432075\\\\\n",
       "\t 29 & 12 & 1793 & 41 & 1953 & 190 &  76 & 33 & 325 &   3611278\\\\\n",
       "\t 30 & 13 & 2114 &  4 & 2296 & 178 &  18 &  4 &  49 &  23846631\\\\\n",
       "\t 27 & 10 & 1830 & 32 & 1994 & 172 &  92 & 23 & 357 &   3869834\\\\\n",
       "\t 35 & 17 & 1786 &  9 & 2158 & 180 & 211 &  8 & 183 &   8616024\\\\\n",
       "\t 25 &  7 & 1975 & 20 & 2069 & 185 &  24 & 10 & 169 &   7487708\\\\\n",
       "\t 30 & 11 & 1965 & 25 & 2003 & 196 &  21 & 18 & 293 &   7774890\\\\\n",
       "\t 31 & 13 & 1926 & 29 & 2004 & 183 &  44 & 22 & 400 &   6903920\\\\\n",
       "\t 32 & 14 & 1900 & 41 & 1944 & 183 &  68 & 39 & 489 &   4997728\\\\\n",
       "\t 33 & 15 & 1769 & 31 & 1987 & 188 & 170 & 33 & 400 &   5965778\\\\\n",
       "\t ⋮ & ⋮ & ⋮ & ⋮ & ⋮ & ⋮ & ⋮ & ⋮ & ⋮ & ⋮\\\\\n",
       "\t 32 & 14 & 1755 & 32 & 1970 & 188 & 277 & 28 & 489 &      4416\\\\\n",
       "\t 31 & 13 & 1770 & 43 & 1933 & 173 &  91 & 36 & 489 &   1843740\\\\\n",
       "\t 32 & 13 & 1863 & 28 & 1999 & 188 & 101 & 21 & 293 &   6492427\\\\\n",
       "\t 32 & 13 & 1748 & 37 & 1968 & 190 & 281 & 25 & 400 &   5647193\\\\\n",
       "\t 32 & 15 & 2185 &  2 & 2500 & 190 & 128 &  1 &  12 &  61544007\\\\\n",
       "\t 30 & 12 & 1839 & 26 & 1998 & 190 & 144 & 24 & 234 &   4810128\\\\\n",
       "\t 35 & 15 & 1803 & 41 & 1951 & 178 & 176 & 38 & 357 &   3311462\\\\\n",
       "\t 36 & 19 & 1945 &  7 & 2204 & 188 &  51 &  7 & 133 &  17353811\\\\\n",
       "\t 38 & 22 & 2328 &  1 & 2550 & 185 &   3 &  1 &   1 & 129231891\\\\\n",
       "\t 40 & 20 & 1806 & 16 & 2062 & 208 & 124 & 14 & 133 &   9845365\\\\\n",
       "\t 36 & 17 & 1778 & 29 & 2009 & 188 & 160 & 23 & 293 &   8003533\\\\\n",
       "\t 34 & 18 & 2108 &  5 & 2291 & 183 &  15 &  3 &  36 &  33790279\\\\\n",
       "\t 34 & 13 & 1829 & 29 & 1982 & 196 & 177 & 26 & 400 &   4209879\\\\\n",
       "\t 38 & 22 & 1944 & 16 & 2074 & 188 &  57 & 12 & 133 &  17114510\\\\\n",
       "\t 38 & 13 & 1768 & 62 & 1895 & 183 & 116 & 33 & 489 &   4927689\\\\\n",
       "\t 29 & 10 & 2093 &  8 & 2165 & 163 &  11 &  7 & 119 &  13578010\\\\\n",
       "\t 30 & 10 & 1877 & 21 & 2042 & 188 &  75 & 21 & 293 &   5970907\\\\\n",
       "\t 34 & 16 & 1818 & 44 & 1947 & 193 & 153 & 31 & 325 &   5349041\\\\\n",
       "\t 33 & 17 & 2030 &  7 & 2189 & 193 &  10 &  6 &  83 &  17930816\\\\\n",
       "\t 29 &  9 & 1960 & 29 & 2009 & 185 &  25 & 20 & 357 &   4292576\\\\\n",
       "\t 33 & 18 & 1973 &  9 & 2196 & 185 &  60 &  7 &  85 &  18125457\\\\\n",
       "\t 24 &  8 & 2083 & 10 & 2176 & 193 &  26 & 13 & 165 &   8001478\\\\\n",
       "\t 34 & 14 & 2007 &  9 & 2148 & 206 &  19 &  8 &  71 &  18669906\\\\\n",
       "\t 36 & 18 & 1939 & 14 & 2117 & 178 &  79 & 16 & 222 &  12807597\\\\\n",
       "\t 29 & 11 & 1891 & 37 & 1962 & 193 & 138 & 25 & 357 &   5287905\\\\\n",
       "\t 30 &  9 & 1841 & 45 & 1935 & 185 & 120 & 39 & 489 &   2562473\\\\\n",
       "\t 34 & 16 & 1856 & 26 & 2004 & 180 &  46 & 19 & 222 &   8480383\\\\\n",
       "\t 35 & 17 & 1894 &  9 & 2124 & 183 &  61 &  6 & 106 &  14773644\\\\\n",
       "\t 29 & 12 & 2048 &  5 & 2269 & 196 &  35 &  3 &  68 &  18879855\\\\\n",
       "\t 26 & 10 & 2188 &  5 & 2211 & 185 &   5 &  4 &  58 &  22132368\\\\\n",
       "\\end{tabular}\n"
      ],
      "text/markdown": [
       "\n",
       "A tibble: 68 × 10\n",
       "\n",
       "| Age &lt;dbl&gt; | Seasons &lt;dbl&gt; | Current.Elo.Rank &lt;dbl&gt; | Best.Elo.Rank &lt;dbl&gt; | Peak.Elo.Rating &lt;dbl&gt; | Height &lt;dbl&gt; | Current.Rank &lt;dbl&gt; | Best.Rank &lt;dbl&gt; | GOAT.Rank &lt;dbl&gt; | Prize.Money &lt;dbl&gt; |\n",
       "|---|---|---|---|---|---|---|---|---|---|\n",
       "| 27 | 11 | 1826 | 21 | 2037 | 193 | 183 | 17 | 264 |   6091971 |\n",
       "| 31 | 14 | 2211 |  3 | 2329 | 198 | 121 |  3 |  33 |  25889586 |\n",
       "| 33 | 14 | 1791 | 29 | 2004 | 190 | 130 | 19 | 264 |  10821168 |\n",
       "| 32 | 15 | 1993 | 18 | 2068 | 198 |  45 | 11 | 157 |  11912152 |\n",
       "| 32 | 16 | 2004 | 14 | 2112 | 178 |  12 |  9 | 151 |  13470614 |\n",
       "| 29 | 11 | 1892 | 35 | 1962 | 180 |  27 | 23 | 357 |   4850190 |\n",
       "| 32 | 13 | 1860 | 44 | 1946 | 190 | 161 | 33 | 357 |   7114496 |\n",
       "| 27 | 11 | 1845 | 38 | 1953 | 183 | 304 | 40 | 489 |   4660132 |\n",
       "| 35 | 18 | 1879 | 21 | 2029 | 190 |  85 | 18 | 293 |  10581476 |\n",
       "| 27 |  8 | 2025 | 18 | 2066 | 170 |  14 | 11 | 222 |   7217264 |\n",
       "| 27 | 11 | 1985 | 29 | 2000 | 185 |  41 | 26 | 400 |   3062847 |\n",
       "| 28 |  9 | 2002 | 21 | 2071 | 188 |  30 | 10 | 202 |   8892564 |\n",
       "| 33 | 19 | 2406 |  1 | 2552 | 185 |   1 |  1 |   3 | 119601561 |\n",
       "| 31 | 11 | 2080 |  9 | 2135 | 183 |   9 |  9 | 151 |  12067808 |\n",
       "| 32 | 15 | 1965 | 23 | 2016 | 188 |  58 | 25 | 357 |   8658443 |\n",
       "| 22 |  8 | 2096 |  5 | 2231 | 198 |   7 |  3 |  65 |  20028563 |\n",
       "| 32 | 11 | 1946 | 25 | 2014 | 188 |  42 | 17 | 293 |   7062030 |\n",
       "| 38 | 20 | 1886 | 35 | 1970 | 190 | 191 | 37 | 325 |  10262279 |\n",
       "| 33 | 14 | 1850 | 15 | 2091 | 193 | 159 | 12 | 264 |   8638698 |\n",
       "| 31 | 16 | 2037 |  6 | 2232 | 198 |  39 |  3 |  53 |  27466016 |\n",
       "| 29 | 11 | 1811 | 72 | 1875 | 193 | 152 | 56 | 489 |   2432075 |\n",
       "| 29 | 12 | 1793 | 41 | 1953 | 190 |  76 | 33 | 325 |   3611278 |\n",
       "| 30 | 13 | 2114 |  4 | 2296 | 178 |  18 |  4 |  49 |  23846631 |\n",
       "| 27 | 10 | 1830 | 32 | 1994 | 172 |  92 | 23 | 357 |   3869834 |\n",
       "| 35 | 17 | 1786 |  9 | 2158 | 180 | 211 |  8 | 183 |   8616024 |\n",
       "| 25 |  7 | 1975 | 20 | 2069 | 185 |  24 | 10 | 169 |   7487708 |\n",
       "| 30 | 11 | 1965 | 25 | 2003 | 196 |  21 | 18 | 293 |   7774890 |\n",
       "| 31 | 13 | 1926 | 29 | 2004 | 183 |  44 | 22 | 400 |   6903920 |\n",
       "| 32 | 14 | 1900 | 41 | 1944 | 183 |  68 | 39 | 489 |   4997728 |\n",
       "| 33 | 15 | 1769 | 31 | 1987 | 188 | 170 | 33 | 400 |   5965778 |\n",
       "| ⋮ | ⋮ | ⋮ | ⋮ | ⋮ | ⋮ | ⋮ | ⋮ | ⋮ | ⋮ |\n",
       "| 32 | 14 | 1755 | 32 | 1970 | 188 | 277 | 28 | 489 |      4416 |\n",
       "| 31 | 13 | 1770 | 43 | 1933 | 173 |  91 | 36 | 489 |   1843740 |\n",
       "| 32 | 13 | 1863 | 28 | 1999 | 188 | 101 | 21 | 293 |   6492427 |\n",
       "| 32 | 13 | 1748 | 37 | 1968 | 190 | 281 | 25 | 400 |   5647193 |\n",
       "| 32 | 15 | 2185 |  2 | 2500 | 190 | 128 |  1 |  12 |  61544007 |\n",
       "| 30 | 12 | 1839 | 26 | 1998 | 190 | 144 | 24 | 234 |   4810128 |\n",
       "| 35 | 15 | 1803 | 41 | 1951 | 178 | 176 | 38 | 357 |   3311462 |\n",
       "| 36 | 19 | 1945 |  7 | 2204 | 188 |  51 |  7 | 133 |  17353811 |\n",
       "| 38 | 22 | 2328 |  1 | 2550 | 185 |   3 |  1 |   1 | 129231891 |\n",
       "| 40 | 20 | 1806 | 16 | 2062 | 208 | 124 | 14 | 133 |   9845365 |\n",
       "| 36 | 17 | 1778 | 29 | 2009 | 188 | 160 | 23 | 293 |   8003533 |\n",
       "| 34 | 18 | 2108 |  5 | 2291 | 183 |  15 |  3 |  36 |  33790279 |\n",
       "| 34 | 13 | 1829 | 29 | 1982 | 196 | 177 | 26 | 400 |   4209879 |\n",
       "| 38 | 22 | 1944 | 16 | 2074 | 188 |  57 | 12 | 133 |  17114510 |\n",
       "| 38 | 13 | 1768 | 62 | 1895 | 183 | 116 | 33 | 489 |   4927689 |\n",
       "| 29 | 10 | 2093 |  8 | 2165 | 163 |  11 |  7 | 119 |  13578010 |\n",
       "| 30 | 10 | 1877 | 21 | 2042 | 188 |  75 | 21 | 293 |   5970907 |\n",
       "| 34 | 16 | 1818 | 44 | 1947 | 193 | 153 | 31 | 325 |   5349041 |\n",
       "| 33 | 17 | 2030 |  7 | 2189 | 193 |  10 |  6 |  83 |  17930816 |\n",
       "| 29 |  9 | 1960 | 29 | 2009 | 185 |  25 | 20 | 357 |   4292576 |\n",
       "| 33 | 18 | 1973 |  9 | 2196 | 185 |  60 |  7 |  85 |  18125457 |\n",
       "| 24 |  8 | 2083 | 10 | 2176 | 193 |  26 | 13 | 165 |   8001478 |\n",
       "| 34 | 14 | 2007 |  9 | 2148 | 206 |  19 |  8 |  71 |  18669906 |\n",
       "| 36 | 18 | 1939 | 14 | 2117 | 178 |  79 | 16 | 222 |  12807597 |\n",
       "| 29 | 11 | 1891 | 37 | 1962 | 193 | 138 | 25 | 357 |   5287905 |\n",
       "| 30 |  9 | 1841 | 45 | 1935 | 185 | 120 | 39 | 489 |   2562473 |\n",
       "| 34 | 16 | 1856 | 26 | 2004 | 180 |  46 | 19 | 222 |   8480383 |\n",
       "| 35 | 17 | 1894 |  9 | 2124 | 183 |  61 |  6 | 106 |  14773644 |\n",
       "| 29 | 12 | 2048 |  5 | 2269 | 196 |  35 |  3 |  68 |  18879855 |\n",
       "| 26 | 10 | 2188 |  5 | 2211 | 185 |   5 |  4 |  58 |  22132368 |\n",
       "\n"
      ],
      "text/plain": [
       "   Age Seasons Current.Elo.Rank Best.Elo.Rank Peak.Elo.Rating Height\n",
       "1  27  11      1826             21            2037            193   \n",
       "2  31  14      2211              3            2329            198   \n",
       "3  33  14      1791             29            2004            190   \n",
       "4  32  15      1993             18            2068            198   \n",
       "5  32  16      2004             14            2112            178   \n",
       "6  29  11      1892             35            1962            180   \n",
       "7  32  13      1860             44            1946            190   \n",
       "8  27  11      1845             38            1953            183   \n",
       "9  35  18      1879             21            2029            190   \n",
       "10 27   8      2025             18            2066            170   \n",
       "11 27  11      1985             29            2000            185   \n",
       "12 28   9      2002             21            2071            188   \n",
       "13 33  19      2406              1            2552            185   \n",
       "14 31  11      2080              9            2135            183   \n",
       "15 32  15      1965             23            2016            188   \n",
       "16 22   8      2096              5            2231            198   \n",
       "17 32  11      1946             25            2014            188   \n",
       "18 38  20      1886             35            1970            190   \n",
       "19 33  14      1850             15            2091            193   \n",
       "20 31  16      2037              6            2232            198   \n",
       "21 29  11      1811             72            1875            193   \n",
       "22 29  12      1793             41            1953            190   \n",
       "23 30  13      2114              4            2296            178   \n",
       "24 27  10      1830             32            1994            172   \n",
       "25 35  17      1786              9            2158            180   \n",
       "26 25   7      1975             20            2069            185   \n",
       "27 30  11      1965             25            2003            196   \n",
       "28 31  13      1926             29            2004            183   \n",
       "29 32  14      1900             41            1944            183   \n",
       "30 33  15      1769             31            1987            188   \n",
       "⋮  ⋮   ⋮       ⋮                ⋮             ⋮               ⋮     \n",
       "39 32  14      1755             32            1970            188   \n",
       "40 31  13      1770             43            1933            173   \n",
       "41 32  13      1863             28            1999            188   \n",
       "42 32  13      1748             37            1968            190   \n",
       "43 32  15      2185              2            2500            190   \n",
       "44 30  12      1839             26            1998            190   \n",
       "45 35  15      1803             41            1951            178   \n",
       "46 36  19      1945              7            2204            188   \n",
       "47 38  22      2328              1            2550            185   \n",
       "48 40  20      1806             16            2062            208   \n",
       "49 36  17      1778             29            2009            188   \n",
       "50 34  18      2108              5            2291            183   \n",
       "51 34  13      1829             29            1982            196   \n",
       "52 38  22      1944             16            2074            188   \n",
       "53 38  13      1768             62            1895            183   \n",
       "54 29  10      2093              8            2165            163   \n",
       "55 30  10      1877             21            2042            188   \n",
       "56 34  16      1818             44            1947            193   \n",
       "57 33  17      2030              7            2189            193   \n",
       "58 29   9      1960             29            2009            185   \n",
       "59 33  18      1973              9            2196            185   \n",
       "60 24   8      2083             10            2176            193   \n",
       "61 34  14      2007              9            2148            206   \n",
       "62 36  18      1939             14            2117            178   \n",
       "63 29  11      1891             37            1962            193   \n",
       "64 30   9      1841             45            1935            185   \n",
       "65 34  16      1856             26            2004            180   \n",
       "66 35  17      1894              9            2124            183   \n",
       "67 29  12      2048              5            2269            196   \n",
       "68 26  10      2188              5            2211            185   \n",
       "   Current.Rank Best.Rank GOAT.Rank Prize.Money\n",
       "1  183          17        264         6091971  \n",
       "2  121           3         33        25889586  \n",
       "3  130          19        264        10821168  \n",
       "4   45          11        157        11912152  \n",
       "5   12           9        151        13470614  \n",
       "6   27          23        357         4850190  \n",
       "7  161          33        357         7114496  \n",
       "8  304          40        489         4660132  \n",
       "9   85          18        293        10581476  \n",
       "10  14          11        222         7217264  \n",
       "11  41          26        400         3062847  \n",
       "12  30          10        202         8892564  \n",
       "13   1           1          3       119601561  \n",
       "14   9           9        151        12067808  \n",
       "15  58          25        357         8658443  \n",
       "16   7           3         65        20028563  \n",
       "17  42          17        293         7062030  \n",
       "18 191          37        325        10262279  \n",
       "19 159          12        264         8638698  \n",
       "20  39           3         53        27466016  \n",
       "21 152          56        489         2432075  \n",
       "22  76          33        325         3611278  \n",
       "23  18           4         49        23846631  \n",
       "24  92          23        357         3869834  \n",
       "25 211           8        183         8616024  \n",
       "26  24          10        169         7487708  \n",
       "27  21          18        293         7774890  \n",
       "28  44          22        400         6903920  \n",
       "29  68          39        489         4997728  \n",
       "30 170          33        400         5965778  \n",
       "⋮  ⋮            ⋮         ⋮         ⋮          \n",
       "39 277          28        489            4416  \n",
       "40  91          36        489         1843740  \n",
       "41 101          21        293         6492427  \n",
       "42 281          25        400         5647193  \n",
       "43 128           1         12        61544007  \n",
       "44 144          24        234         4810128  \n",
       "45 176          38        357         3311462  \n",
       "46  51           7        133        17353811  \n",
       "47   3           1          1       129231891  \n",
       "48 124          14        133         9845365  \n",
       "49 160          23        293         8003533  \n",
       "50  15           3         36        33790279  \n",
       "51 177          26        400         4209879  \n",
       "52  57          12        133        17114510  \n",
       "53 116          33        489         4927689  \n",
       "54  11           7        119        13578010  \n",
       "55  75          21        293         5970907  \n",
       "56 153          31        325         5349041  \n",
       "57  10           6         83        17930816  \n",
       "58  25          20        357         4292576  \n",
       "59  60           7         85        18125457  \n",
       "60  26          13        165         8001478  \n",
       "61  19           8         71        18669906  \n",
       "62  79          16        222        12807597  \n",
       "63 138          25        357         5287905  \n",
       "64 120          39        489         2562473  \n",
       "65  46          19        222         8480383  \n",
       "66  61           6        106        14773644  \n",
       "67  35           3         68        18879855  \n",
       "68   5           4         58        22132368  "
      ]
     },
     "metadata": {},
     "output_type": "display_data"
    }
   ],
   "source": [
    "colnames(player_stats) <- make.names(colnames(player_stats), unique = TRUE)\n",
    "player_stats_tidy <- player_stats |> filter(Active == \"Yes\", Current.Elo.Rank != \"N/A\", Height != \"N/A\", GOAT.Rank != \"N/A\") |> \n",
    "                                     select(Age, Seasons, Current.Elo.Rank, Best.Elo.Rank, Peak.Elo.Rating, Height, Current.Rank, Best.Rank, GOAT.Rank, Prize.Money) |> \n",
    "                                     mutate(Age = as.numeric(substr(Age, 1,2)), \n",
    "                                            Current.Rank = as.numeric(gsub(\"\\\\(.*?\\\\)\", \"\", Current.Rank)),\n",
    "                                            Best.Rank = as.numeric(gsub(\"\\\\(.*?\\\\)\", \"\", Best.Rank)),\n",
    "                                            Height = as.numeric(gsub(\"cm\", \"\", Height)),\n",
    "                                            Peak.Elo.Rating = as.numeric(gsub(\"\\\\(.*?\\\\)\", \"\", Peak.Elo.Rating)),\n",
    "                                            GOAT.Rank = as.numeric(gsub(\"\\\\(.*?\\\\)\", \"\", GOAT.Rank)),\n",
    "                                            Best.Elo.Rank = as.numeric(gsub(\"\\\\(.*?\\\\)\", \"\", Best.Elo.Rank)),\n",
    "                                            Current.Elo.Rank = as.numeric(gsub(\"[\\\\(\\\\)]\", \"\", regmatches(Current.Elo.Rank, gregexpr(\"\\\\(.*?\\\\)\", Current.Elo.Rank)))),\n",
    "                                            Prize.Money = parse_number(Prize.Money))\n",
    "player_stats_tidy"
   ]
  },
  {
   "cell_type": "code",
   "execution_count": 4,
   "id": "e0df43c3",
   "metadata": {},
   "outputs": [
    {
     "data": {
      "text/html": [
       "<style>\n",
       ".dl-inline {width: auto; margin:0; padding: 0}\n",
       ".dl-inline>dt, .dl-inline>dd {float: none; width: auto; display: inline-block}\n",
       ".dl-inline>dt::after {content: \":\\0020\"; padding-right: .5ex}\n",
       ".dl-inline>dt:not(:first-of-type) {padding-left: .5ex}\n",
       "</style><dl class=dl-inline><dt>Age</dt><dd>0.187676615171223</dd><dt>Seasons</dt><dd>0.420304695707455</dd><dt>Current.Elo.Rank</dt><dd>0.772163255557386</dd><dt>Best.Elo.Rank</dt><dd>-0.500190890406434</dd><dt>Peak.Elo.Rating</dt><dd>0.849093760713163</dd><dt>Height</dt><dd>0.0280120528872614</dd><dt>Current.Rank</dt><dd>-0.324298197514599</dd><dt>Best.Rank</dt><dd>-0.495117560879312</dd><dt>GOAT.Rank</dt><dd>-0.575072988424228</dd><dt>Prize.Money</dt><dd>1</dd></dl>\n"
      ],
      "text/latex": [
       "\\begin{description*}\n",
       "\\item[Age] 0.187676615171223\n",
       "\\item[Seasons] 0.420304695707455\n",
       "\\item[Current.Elo.Rank] 0.772163255557386\n",
       "\\item[Best.Elo.Rank] -0.500190890406434\n",
       "\\item[Peak.Elo.Rating] 0.849093760713163\n",
       "\\item[Height] 0.0280120528872614\n",
       "\\item[Current.Rank] -0.324298197514599\n",
       "\\item[Best.Rank] -0.495117560879312\n",
       "\\item[GOAT.Rank] -0.575072988424228\n",
       "\\item[Prize.Money] 1\n",
       "\\end{description*}\n"
      ],
      "text/markdown": [
       "Age\n",
       ":   0.187676615171223Seasons\n",
       ":   0.420304695707455Current.Elo.Rank\n",
       ":   0.772163255557386Best.Elo.Rank\n",
       ":   -0.500190890406434Peak.Elo.Rating\n",
       ":   0.849093760713163Height\n",
       ":   0.0280120528872614Current.Rank\n",
       ":   -0.324298197514599Best.Rank\n",
       ":   -0.495117560879312GOAT.Rank\n",
       ":   -0.575072988424228Prize.Money\n",
       ":   1\n",
       "\n"
      ],
      "text/plain": [
       "             Age          Seasons Current.Elo.Rank    Best.Elo.Rank \n",
       "      0.18767662       0.42030470       0.77216326      -0.50019089 \n",
       " Peak.Elo.Rating           Height     Current.Rank        Best.Rank \n",
       "      0.84909376       0.02801205      -0.32429820      -0.49511756 \n",
       "       GOAT.Rank      Prize.Money \n",
       "     -0.57507299       1.00000000 "
      ]
     },
     "metadata": {},
     "output_type": "display_data"
    }
   ],
   "source": [
    "player_cor <- cor(player_stats_tidy)\n",
    "player_cor[ , 10]"
   ]
  },
  {
   "cell_type": "code",
   "execution_count": 5,
   "id": "ff4c927f",
   "metadata": {},
   "outputs": [
    {
     "name": "stderr",
     "output_type": "stream",
     "text": [
      "Warning message:\n",
      "“The number of observations in each quantile is below the recommended threshold of 20.\n",
      "\u001b[36m•\u001b[39m Stratification will use 3 breaks instead.”\n"
     ]
    }
   ],
   "source": [
    "player_stats_split <- initial_split(player_stats_tidy, prop = 0.6, strata = Prize.Money)\n",
    "player_stats_train <- training(player_stats_split)\n",
    "player_stats_test <- testing(player_stats_split)"
   ]
  },
  {
   "cell_type": "code",
   "execution_count": 6,
   "id": "ebea7c9e",
   "metadata": {},
   "outputs": [],
   "source": [
    "player_age_plot <- ggplot(player_stats_train, aes(x = Age, y = Prize.Money)) +\n",
    "  geom_point() +\n",
    "  xlab(\"Age of Player (years)\") +\n",
    "  ylab(\"Prize Money Won\") + \n",
    "  scale_y_continuous(labels = dollar_format()) +\n",
    "  theme(text = element_text(size = 12))\n",
    "\n",
    "player_seasons_plot <- ggplot(player_stats_train, aes(x = Seasons, y = Prize.Money)) +\n",
    "  geom_point() +\n",
    "  xlab(\"Total Seasons Played\") +\n",
    "  ylab(\"Prize Money Won\") + \n",
    "  scale_y_continuous(labels = dollar_format()) +\n",
    "  theme(text = element_text(size = 12))\n",
    "\n",
    "player_current_elo_plot <- ggplot(player_stats_train, aes(x = Current.Elo.Rank, y = Prize.Money)) +\n",
    "  geom_point() +\n",
    "  xlab(\"Current Elo of Player\") +\n",
    "  ylab(\"Prize Money Won\") + \n",
    "  scale_y_continuous(labels = dollar_format()) +\n",
    "  scale_x_discrete(breaks = seq(from = 0, to = 2406, by = 20)) +\n",
    "  theme(text = element_text(size = 10)) + theme(axis.text.x = element_text(angle = 90, hjust = 1))\n",
    "\n",
    "player_best_elo_plot <- ggplot(player_stats_train, aes(x = Best.Elo.Rank, y = Prize.Money)) +\n",
    "  geom_point() +\n",
    "  xlab(\"Best Elo of Player\") +\n",
    "  ylab(\"Prize Money Won\") + \n",
    "  scale_y_continuous(labels = dollar_format()) +\n",
    "  scale_x_discrete(breaks = seq(from = 0, to = 2406, by = 20)) +\n",
    "  theme(text = element_text(size = 10)) + theme(axis.text.x = element_text(angle = 90, hjust = 1))\n",
    "\n",
    "player_peak_elo_plot <- ggplot(player_stats_train, aes(x = Peak.Elo.Rating, y = Prize.Money)) +\n",
    "  geom_point() +\n",
    "  xlab(\"Peak Elo of Player\") +\n",
    "  ylab(\"Prize Money Won\") + \n",
    "  scale_y_continuous(labels = dollar_format()) +\n",
    "  scale_x_discrete(breaks = seq(from = 0, to = 2406, by = 20)) +\n",
    "  theme(text = element_text(size = 10)) + theme(axis.text.x = element_text(angle = 90, hjust = 1))\n",
    "\n",
    "player_height_plot <- ggplot(player_stats_train, aes(x = Height, y = Prize.Money)) +\n",
    "  geom_point() +\n",
    "  xlab(\"Height of Player\") +\n",
    "  ylab(\"Prize Money Won\") + \n",
    "  scale_y_continuous(labels = dollar_format()) +\n",
    "  theme(text = element_text(size = 12))\n",
    "\n",
    "player_current_rank_plot <- ggplot(player_stats_train, aes(x = Current.Rank, y = Prize.Money)) +\n",
    "  geom_point() +\n",
    "  xlab(\"Current Rank of Player\") +\n",
    "  ylab(\"Prize Money Won\") + \n",
    "  scale_y_continuous(labels = dollar_format()) +\n",
    "  theme(text = element_text(size = 12))\n",
    "\n",
    "player_best_rank_plot <- ggplot(player_stats_train, aes(x = Best.Rank, y = Prize.Money)) +\n",
    "  geom_point() +\n",
    "  xlab(\"Best Rank of Player\") +\n",
    "  ylab(\"Prize Money Won\") + \n",
    "  scale_y_continuous(labels = dollar_format()) +\n",
    "  theme(text = element_text(size = 12))\n",
    "\n",
    "player_goat_rank_plot <- ggplot(player_stats_train, aes(x = GOAT.Rank, y = Prize.Money)) +\n",
    "  geom_point() +\n",
    "  xlab(\"GOAT Rank of Player\") +\n",
    "  ylab(\"Prize Money Won\") + \n",
    "  scale_y_continuous(labels = dollar_format()) +\n",
    "  theme(text = element_text(size = 12))"
   ]
  },
  {
   "cell_type": "code",
   "execution_count": 7,
   "id": "d3b37c3a",
   "metadata": {},
   "outputs": [
    {
     "data": {
      "image/png": "[encoded data removed]",
      "text/plain": [
       "plot without title"
      ]
     },
     "metadata": {
      "image/png": {
       "height": 420,
       "width": 420
      }
     },
     "output_type": "display_data"
    },
    {
     "data": {
      "image/png": "[encoded data removed]",
      "text/plain": [
       "plot without title"
      ]
     },
     "metadata": {
      "image/png": {
       "height": 420,
       "width": 420
      }
     },
     "output_type": "display_data"
    },
    {
     "data": {
      "image/png": "[encoded data removed]",
      "text/plain": [
       "plot without title"
      ]
     },
     "metadata": {
      "image/png": {
       "height": 420,
       "width": 420
      }
     },
     "output_type": "display_data"
    },
    {
     "data": {
      "image/png": "[encoded data removed]",
      "text/plain": [
       "plot without title"
      ]
     },
     "metadata": {
      "image/png": {
       "height": 420,
       "width": 420
      }
     },
     "output_type": "display_data"
    },
    {
     "data": {
      "image/png": "[encoded data removed]",
      "text/plain": [
       "plot without title"
      ]
     },
     "metadata": {
      "image/png": {
       "height": 420,
       "width": 420
      }
     },
     "output_type": "display_data"
    },
    {
     "data": {
      "image/png": "[encoded data removed]",
      "text/plain": [
       "plot without title"
      ]
     },
     "metadata": {
      "image/png": {
       "height": 420,
       "width": 420
      }
     },
     "output_type": "display_data"
    },
    {
     "data": {
      "image/png": "[encoded data removed]",
      "text/plain": [
       "plot without title"
      ]
     },
     "metadata": {
      "image/png": {
       "height": 420,
       "width": 420
      }
     },
     "output_type": "display_data"
    },
    {
     "data": {
      "image/png": "[encoded data removed]",
      "text/plain": [
       "plot without title"
      ]
     },
     "metadata": {
      "image/png": {
       "height": 420,
       "width": 420
      }
     },
     "output_type": "display_data"
    },
    {
     "data": {
      "image/png": "[encoded data removed]",
      "text/plain": [
       "plot without title"
      ]
     },
     "metadata": {
      "image/png": {
       "height": 420,
       "width": 420
      }
     },
     "output_type": "display_data"
    }
   ],
   "source": [
    "player_age_plot\n",
    "player_seasons_plot\n",
    "player_current_elo_plot\n",
    "player_best_elo_plot\n",
    "player_peak_elo_plot \n",
    "player_height_plot\n",
    "player_current_rank_plot\n",
    "player_best_rank_plot\n",
    "player_goat_rank_plot"
   ]
  },
  {
   "cell_type": "code",
   "execution_count": 8,
   "id": "2550e594",
   "metadata": {},
   "outputs": [],
   "source": [
    "lm_spec <- linear_reg() |> set_engine(\"lm\") |> set_mode(\"regression\")\n",
    "\n",
    "tennis_recipe_all <- recipe(\n",
    "    Prize.Money ~ ., data = player_stats_train)\n",
    "\n",
    "tennis_recipe_best <- recipe(\n",
    "    Prize.Money ~ Seasons + Current.Elo.Rank + Peak.Elo.Rating + Current.Rank + Best.Rank + GOAT.Rank, \n",
    "    data = player_stats_train)\n",
    "\n",
    "tennis_fit_all <- workflow() |> add_recipe(tennis_recipe_all) |>\n",
    "                            add_model(lm_spec) |> \n",
    "                            fit(player_stats_train)\n",
    "\n",
    "lm_rmse_all <- tennis_fit_all |> predict(player_stats_train) |>\n",
    "                         bind_cols(player_stats_train) |>\n",
    "                         metrics(truth = Prize.Money, estimate = .pred) |> \n",
    "                         filter(.metric == \"rmse\") |>\n",
    "                         select(.estimate) |>\n",
    "                         pull()\n",
    "\n",
    "lm_rmspe_all <- tennis_fit_all |> predict(player_stats_test) |>\n",
    "                          bind_cols(player_stats_test) |> \n",
    "                          metrics(truth = Prize.Money, estimate = .pred) |> \n",
    "                          filter(.metric == \"rmse\") |>\n",
    "                          select(.estimate) |> \n",
    "                          pull()\n",
    "\n",
    "tennis_fit_best <- workflow() |> add_recipe(tennis_recipe_best) |>\n",
    "                            add_model(lm_spec) |> \n",
    "                            fit(player_stats_train)\n",
    "\n",
    "lm_rmse_best <- tennis_fit_best |> predict(player_stats_train) |>\n",
    "                         bind_cols(player_stats_train) |>\n",
    "                         metrics(truth = Prize.Money, estimate = .pred) |> \n",
    "                         filter(.metric == \"rmse\") |>\n",
    "                         select(.estimate) |>\n",
    "                         pull()\n",
    "\n",
    "lm_rmspe_best <- tennis_fit_best |> predict(player_stats_test) |>\n",
    "                          bind_cols(player_stats_test) |> \n",
    "                          metrics(truth = Prize.Money, estimate = .pred) |> \n",
    "                          filter(.metric == \"rmse\") |>\n",
    "                          select(.estimate) |> \n",
    "                          pull()"
   ]
  },
  {
   "cell_type": "code",
   "execution_count": 9,
   "id": "791bf49a",
   "metadata": {},
   "outputs": [
    {
     "data": {
      "text/html": [
       "6890495.10923601"
      ],
      "text/latex": [
       "6890495.10923601"
      ],
      "text/markdown": [
       "6890495.10923601"
      ],
      "text/plain": [
       "[1] 6890495"
      ]
     },
     "metadata": {},
     "output_type": "display_data"
    },
    {
     "data": {
      "text/html": [
       "15598125.1139701"
      ],
      "text/latex": [
       "15598125.1139701"
      ],
      "text/markdown": [
       "15598125.1139701"
      ],
      "text/plain": [
       "[1] 15598125"
      ]
     },
     "metadata": {},
     "output_type": "display_data"
    },
    {
     "data": {
      "text/html": [
       "9644389.48169348"
      ],
      "text/latex": [
       "9644389.48169348"
      ],
      "text/markdown": [
       "9644389.48169348"
      ],
      "text/plain": [
       "[1] 9644389"
      ]
     },
     "metadata": {},
     "output_type": "display_data"
    },
    {
     "data": {
      "text/html": [
       "10156521.9008596"
      ],
      "text/latex": [
       "10156521.9008596"
      ],
      "text/markdown": [
       "10156521.9008596"
      ],
      "text/plain": [
       "[1] 10156522"
      ]
     },
     "metadata": {},
     "output_type": "display_data"
    }
   ],
   "source": [
    "lm_rmse_all\n",
    "lm_rmspe_all\n",
    "lm_rmse_best\n",
    "lm_rmspe_best"
   ]
  },
  {
   "cell_type": "markdown",
   "id": "0577df6e",
   "metadata": {},
   "source": [
    ">> insert"
   ]
  },
  {
   "cell_type": "markdown",
   "id": "ae38d1d1",
   "metadata": {},
   "source": [
    ">> insert"
   ]
  }
 ],
 "metadata": {
  "kernelspec": {
   "display_name": "R",
   "language": "R",
   "name": "ir"
  },
  "language_info": {
   "codemirror_mode": "r",
   "file_extension": ".r",
   "mimetype": "text/x-r-source",
   "name": "R",
   "pygments_lexer": "r",
   "version": "4.1.3"
  }
 },
 "nbformat": 4,
 "nbformat_minor": 5
}
