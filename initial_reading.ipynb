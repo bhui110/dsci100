{
 "cells": [
  {
   "cell_type": "code",
   "execution_count": 3,
   "id": "141c5e64-ddbb-44eb-9933-82c89d1c3911",
   "metadata": {},
   "outputs": [
    {
     "ename": "ERROR",
     "evalue": "Error: Could not connect to database:\nunable to open database file\n",
     "output_type": "error",
     "traceback": [
      "Error: Could not connect to database:\nunable to open database file\nTraceback:\n",
      "1. dbConnect(RSQLite::SQLite(), \"/ml/machine-learning-databases/heart-disease/switzerland.data\")",
      "2. dbConnect(RSQLite::SQLite(), \"/ml/machine-learning-databases/heart-disease/switzerland.data\")",
      "3. .local(drv, ...)",
      "4. new(\"SQLiteConnection\", ptr = connection_connect(dbname, loadable.extensions, \n .     flags, vfs, extended_types), dbname = dbname, flags = flags, \n .     vfs = vfs, loadable.extensions = loadable.extensions, ref = new.env(parent = emptyenv()), \n .     bigint = bigint, extended_types = extended_types)",
      "5. initialize(value, ...)",
      "6. initialize(value, ...)",
      "7. connection_connect(dbname, loadable.extensions, flags, vfs, extended_types)"
     ]
    }
   ],
   "source": [
    "library(DBI)\n",
    "library(tidyverse)\n",
    "\n",
    "heart_disease_data <- dbConnect(RSQLite::SQLite(), \"/ml/machine-learning-databases/heart-disease/switzerland.data\")\n",
    "\n",
    "tables <- dbListTables(heart_disease_data)\n",
    "tables"
   ]
  },
  {
   "cell_type": "code",
   "execution_count": null,
   "id": "dd896e27-e001-4ea8-91e4-e2b9e6f7be6b",
   "metadata": {},
   "outputs": [],
   "source": []
  }
 ],
 "metadata": {
  "kernelspec": {
   "display_name": "R",
   "language": "R",
   "name": "ir"
  },
  "language_info": {
   "codemirror_mode": "r",
   "file_extension": ".r",
   "mimetype": "text/x-r-source",
   "name": "R",
   "pygments_lexer": "r",
   "version": "4.1.3"
  }
 },
 "nbformat": 4,
 "nbformat_minor": 5
}
